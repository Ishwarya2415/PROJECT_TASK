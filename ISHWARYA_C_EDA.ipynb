{
 "cells": [
  {
   "cell_type": "markdown",
   "id": "1f7baa0e-ac5b-47cf-866f-a1fdc1f79f65",
   "metadata": {},
   "source": [
    "## Task 1: Exploratory Data Analysis (EDA) and Business Insights\n"
   ]
  },
  {
   "cell_type": "raw",
   "id": "0463bfc2-e6c7-4527-adec-4bc681686b6f",
   "metadata": {},
   "source": [
    "Exploratory Data Analysis refers to the crucial process of performing initial investigations on data to discover patterns to check assumptions with the help of summary statistics and graphical representations."
   ]
  },
  {
   "cell_type": "markdown",
   "id": "202b1870-418f-4955-9f0d-7324af5ae9ac",
   "metadata": {},
   "source": [
    "### 1.Load the data"
   ]
  },
  {
   "cell_type": "code",
   "execution_count": 3,
   "id": "4936640b-f3cb-45e6-ac23-35be13fd7a22",
   "metadata": {},
   "outputs": [],
   "source": [
    "import pandas as pd\n",
    "import numpy as np\n",
    "import matplotlib.pyplot as plt\n",
    "import seaborn as sns"
   ]
  },
  {
   "cell_type": "code",
   "execution_count": 4,
   "id": "eeebd9fe-8891-4989-a99a-339169015b16",
   "metadata": {},
   "outputs": [],
   "source": [
    "#read CSV files\n",
    "customers = pd.read_csv(\"Customers.csv\")\n",
    "products = pd.read_csv(\"Products.csv\")\n",
    "transactions = pd.read_csv(\"Transactions.csv\") "
   ]
  },
  {
   "cell_type": "code",
   "execution_count": 5,
   "id": "ab6758fc-dba6-4cd0-82f0-998be6fdb4f3",
   "metadata": {},
   "outputs": [
    {
     "data": {
      "text/plain": [
       "(200, 4)"
      ]
     },
     "execution_count": 5,
     "metadata": {},
     "output_type": "execute_result"
    }
   ],
   "source": [
    "customers.shape"
   ]
  },
  {
   "cell_type": "code",
   "execution_count": 6,
   "id": "516f7b37-9df7-4781-9cec-f1f6d24e7f79",
   "metadata": {},
   "outputs": [
    {
     "data": {
      "text/plain": [
       "(100, 4)"
      ]
     },
     "execution_count": 6,
     "metadata": {},
     "output_type": "execute_result"
    }
   ],
   "source": [
    "products.shape"
   ]
  },
  {
   "cell_type": "code",
   "execution_count": 7,
   "id": "a078a6a0-89bd-4e76-870b-30396a74f4a8",
   "metadata": {},
   "outputs": [
    {
     "data": {
      "text/plain": [
       "(1000, 7)"
      ]
     },
     "execution_count": 7,
     "metadata": {},
     "output_type": "execute_result"
    }
   ],
   "source": [
    "transactions.shape"
   ]
  },
  {
   "cell_type": "code",
   "execution_count": 8,
   "id": "7fe99db6-79de-4848-8a3d-dfdeb3bf142c",
   "metadata": {},
   "outputs": [
    {
     "data": {
      "text/html": [
       "<div>\n",
       "<style scoped>\n",
       "    .dataframe tbody tr th:only-of-type {\n",
       "        vertical-align: middle;\n",
       "    }\n",
       "\n",
       "    .dataframe tbody tr th {\n",
       "        vertical-align: top;\n",
       "    }\n",
       "\n",
       "    .dataframe thead th {\n",
       "        text-align: right;\n",
       "    }\n",
       "</style>\n",
       "<table border=\"1\" class=\"dataframe\">\n",
       "  <thead>\n",
       "    <tr style=\"text-align: right;\">\n",
       "      <th></th>\n",
       "      <th>CustomerID</th>\n",
       "      <th>CustomerName</th>\n",
       "      <th>Region</th>\n",
       "      <th>SignupDate</th>\n",
       "    </tr>\n",
       "  </thead>\n",
       "  <tbody>\n",
       "    <tr>\n",
       "      <th>0</th>\n",
       "      <td>C0001</td>\n",
       "      <td>Lawrence Carroll</td>\n",
       "      <td>South America</td>\n",
       "      <td>2022-07-10</td>\n",
       "    </tr>\n",
       "    <tr>\n",
       "      <th>1</th>\n",
       "      <td>C0002</td>\n",
       "      <td>Elizabeth Lutz</td>\n",
       "      <td>Asia</td>\n",
       "      <td>2022-02-13</td>\n",
       "    </tr>\n",
       "    <tr>\n",
       "      <th>2</th>\n",
       "      <td>C0003</td>\n",
       "      <td>Michael Rivera</td>\n",
       "      <td>South America</td>\n",
       "      <td>2024-03-07</td>\n",
       "    </tr>\n",
       "    <tr>\n",
       "      <th>3</th>\n",
       "      <td>C0004</td>\n",
       "      <td>Kathleen Rodriguez</td>\n",
       "      <td>South America</td>\n",
       "      <td>2022-10-09</td>\n",
       "    </tr>\n",
       "    <tr>\n",
       "      <th>4</th>\n",
       "      <td>C0005</td>\n",
       "      <td>Laura Weber</td>\n",
       "      <td>Asia</td>\n",
       "      <td>2022-08-15</td>\n",
       "    </tr>\n",
       "  </tbody>\n",
       "</table>\n",
       "</div>"
      ],
      "text/plain": [
       "  CustomerID        CustomerName         Region  SignupDate\n",
       "0      C0001    Lawrence Carroll  South America  2022-07-10\n",
       "1      C0002      Elizabeth Lutz           Asia  2022-02-13\n",
       "2      C0003      Michael Rivera  South America  2024-03-07\n",
       "3      C0004  Kathleen Rodriguez  South America  2022-10-09\n",
       "4      C0005         Laura Weber           Asia  2022-08-15"
      ]
     },
     "execution_count": 8,
     "metadata": {},
     "output_type": "execute_result"
    }
   ],
   "source": [
    "customers.head()"
   ]
  },
  {
   "cell_type": "code",
   "execution_count": 9,
   "id": "a693ccd4-6ef9-4703-939e-a0dd6d5a564f",
   "metadata": {},
   "outputs": [
    {
     "data": {
      "text/html": [
       "<div>\n",
       "<style scoped>\n",
       "    .dataframe tbody tr th:only-of-type {\n",
       "        vertical-align: middle;\n",
       "    }\n",
       "\n",
       "    .dataframe tbody tr th {\n",
       "        vertical-align: top;\n",
       "    }\n",
       "\n",
       "    .dataframe thead th {\n",
       "        text-align: right;\n",
       "    }\n",
       "</style>\n",
       "<table border=\"1\" class=\"dataframe\">\n",
       "  <thead>\n",
       "    <tr style=\"text-align: right;\">\n",
       "      <th></th>\n",
       "      <th>ProductID</th>\n",
       "      <th>ProductName</th>\n",
       "      <th>Category</th>\n",
       "      <th>Price</th>\n",
       "    </tr>\n",
       "  </thead>\n",
       "  <tbody>\n",
       "    <tr>\n",
       "      <th>0</th>\n",
       "      <td>P001</td>\n",
       "      <td>ActiveWear Biography</td>\n",
       "      <td>Books</td>\n",
       "      <td>169.30</td>\n",
       "    </tr>\n",
       "    <tr>\n",
       "      <th>1</th>\n",
       "      <td>P002</td>\n",
       "      <td>ActiveWear Smartwatch</td>\n",
       "      <td>Electronics</td>\n",
       "      <td>346.30</td>\n",
       "    </tr>\n",
       "    <tr>\n",
       "      <th>2</th>\n",
       "      <td>P003</td>\n",
       "      <td>ComfortLiving Biography</td>\n",
       "      <td>Books</td>\n",
       "      <td>44.12</td>\n",
       "    </tr>\n",
       "    <tr>\n",
       "      <th>3</th>\n",
       "      <td>P004</td>\n",
       "      <td>BookWorld Rug</td>\n",
       "      <td>Home Decor</td>\n",
       "      <td>95.69</td>\n",
       "    </tr>\n",
       "    <tr>\n",
       "      <th>4</th>\n",
       "      <td>P005</td>\n",
       "      <td>TechPro T-Shirt</td>\n",
       "      <td>Clothing</td>\n",
       "      <td>429.31</td>\n",
       "    </tr>\n",
       "  </tbody>\n",
       "</table>\n",
       "</div>"
      ],
      "text/plain": [
       "  ProductID              ProductName     Category   Price\n",
       "0      P001     ActiveWear Biography        Books  169.30\n",
       "1      P002    ActiveWear Smartwatch  Electronics  346.30\n",
       "2      P003  ComfortLiving Biography        Books   44.12\n",
       "3      P004            BookWorld Rug   Home Decor   95.69\n",
       "4      P005          TechPro T-Shirt     Clothing  429.31"
      ]
     },
     "execution_count": 9,
     "metadata": {},
     "output_type": "execute_result"
    }
   ],
   "source": [
    "products.head()"
   ]
  },
  {
   "cell_type": "code",
   "execution_count": 10,
   "id": "02163084-2401-4b83-b930-7b21d1bb6e83",
   "metadata": {},
   "outputs": [
    {
     "data": {
      "text/html": [
       "<div>\n",
       "<style scoped>\n",
       "    .dataframe tbody tr th:only-of-type {\n",
       "        vertical-align: middle;\n",
       "    }\n",
       "\n",
       "    .dataframe tbody tr th {\n",
       "        vertical-align: top;\n",
       "    }\n",
       "\n",
       "    .dataframe thead th {\n",
       "        text-align: right;\n",
       "    }\n",
       "</style>\n",
       "<table border=\"1\" class=\"dataframe\">\n",
       "  <thead>\n",
       "    <tr style=\"text-align: right;\">\n",
       "      <th></th>\n",
       "      <th>TransactionID</th>\n",
       "      <th>CustomerID</th>\n",
       "      <th>ProductID</th>\n",
       "      <th>TransactionDate</th>\n",
       "      <th>Quantity</th>\n",
       "      <th>TotalValue</th>\n",
       "      <th>Price</th>\n",
       "    </tr>\n",
       "  </thead>\n",
       "  <tbody>\n",
       "    <tr>\n",
       "      <th>0</th>\n",
       "      <td>T00001</td>\n",
       "      <td>C0199</td>\n",
       "      <td>P067</td>\n",
       "      <td>2024-08-25 12:38:23</td>\n",
       "      <td>1</td>\n",
       "      <td>300.68</td>\n",
       "      <td>300.68</td>\n",
       "    </tr>\n",
       "    <tr>\n",
       "      <th>1</th>\n",
       "      <td>T00112</td>\n",
       "      <td>C0146</td>\n",
       "      <td>P067</td>\n",
       "      <td>2024-05-27 22:23:54</td>\n",
       "      <td>1</td>\n",
       "      <td>300.68</td>\n",
       "      <td>300.68</td>\n",
       "    </tr>\n",
       "    <tr>\n",
       "      <th>2</th>\n",
       "      <td>T00166</td>\n",
       "      <td>C0127</td>\n",
       "      <td>P067</td>\n",
       "      <td>2024-04-25 07:38:55</td>\n",
       "      <td>1</td>\n",
       "      <td>300.68</td>\n",
       "      <td>300.68</td>\n",
       "    </tr>\n",
       "    <tr>\n",
       "      <th>3</th>\n",
       "      <td>T00272</td>\n",
       "      <td>C0087</td>\n",
       "      <td>P067</td>\n",
       "      <td>2024-03-26 22:55:37</td>\n",
       "      <td>2</td>\n",
       "      <td>601.36</td>\n",
       "      <td>300.68</td>\n",
       "    </tr>\n",
       "    <tr>\n",
       "      <th>4</th>\n",
       "      <td>T00363</td>\n",
       "      <td>C0070</td>\n",
       "      <td>P067</td>\n",
       "      <td>2024-03-21 15:10:10</td>\n",
       "      <td>3</td>\n",
       "      <td>902.04</td>\n",
       "      <td>300.68</td>\n",
       "    </tr>\n",
       "  </tbody>\n",
       "</table>\n",
       "</div>"
      ],
      "text/plain": [
       "  TransactionID CustomerID ProductID      TransactionDate  Quantity  \\\n",
       "0        T00001      C0199      P067  2024-08-25 12:38:23         1   \n",
       "1        T00112      C0146      P067  2024-05-27 22:23:54         1   \n",
       "2        T00166      C0127      P067  2024-04-25 07:38:55         1   \n",
       "3        T00272      C0087      P067  2024-03-26 22:55:37         2   \n",
       "4        T00363      C0070      P067  2024-03-21 15:10:10         3   \n",
       "\n",
       "   TotalValue   Price  \n",
       "0      300.68  300.68  \n",
       "1      300.68  300.68  \n",
       "2      300.68  300.68  \n",
       "3      601.36  300.68  \n",
       "4      902.04  300.68  "
      ]
     },
     "execution_count": 10,
     "metadata": {},
     "output_type": "execute_result"
    }
   ],
   "source": [
    "transactions.head()"
   ]
  },
  {
   "cell_type": "markdown",
   "id": "b5bd3ab4-6435-4b9b-b360-c227f6346f60",
   "metadata": {},
   "source": [
    "#### MERGE DATASETS"
   ]
  },
  {
   "cell_type": "code",
   "execution_count": 12,
   "id": "e5e2027e-3f49-45dc-a8ec-203425c0e2d6",
   "metadata": {},
   "outputs": [],
   "source": [
    "# Merge Customers and Transactions\n",
    "data = transactions.merge(customers, on=\"CustomerID\", how=\"left\")\n",
    "\n",
    "# Merge with Products\n",
    "data = data.merge(products, on=\"ProductID\", how=\"left\")"
   ]
  },
  {
   "cell_type": "code",
   "execution_count": 13,
   "id": "486e846a-5024-4eda-858f-2ef4071745f5",
   "metadata": {},
   "outputs": [
    {
     "data": {
      "text/html": [
       "<div>\n",
       "<style scoped>\n",
       "    .dataframe tbody tr th:only-of-type {\n",
       "        vertical-align: middle;\n",
       "    }\n",
       "\n",
       "    .dataframe tbody tr th {\n",
       "        vertical-align: top;\n",
       "    }\n",
       "\n",
       "    .dataframe thead th {\n",
       "        text-align: right;\n",
       "    }\n",
       "</style>\n",
       "<table border=\"1\" class=\"dataframe\">\n",
       "  <thead>\n",
       "    <tr style=\"text-align: right;\">\n",
       "      <th></th>\n",
       "      <th>TransactionID</th>\n",
       "      <th>CustomerID</th>\n",
       "      <th>ProductID</th>\n",
       "      <th>TransactionDate</th>\n",
       "      <th>Quantity</th>\n",
       "      <th>TotalValue</th>\n",
       "      <th>Price_x</th>\n",
       "      <th>CustomerName</th>\n",
       "      <th>Region</th>\n",
       "      <th>SignupDate</th>\n",
       "      <th>ProductName</th>\n",
       "      <th>Category</th>\n",
       "      <th>Price_y</th>\n",
       "    </tr>\n",
       "  </thead>\n",
       "  <tbody>\n",
       "    <tr>\n",
       "      <th>0</th>\n",
       "      <td>T00001</td>\n",
       "      <td>C0199</td>\n",
       "      <td>P067</td>\n",
       "      <td>2024-08-25 12:38:23</td>\n",
       "      <td>1</td>\n",
       "      <td>300.68</td>\n",
       "      <td>300.68</td>\n",
       "      <td>Andrea Jenkins</td>\n",
       "      <td>Europe</td>\n",
       "      <td>2022-12-03</td>\n",
       "      <td>ComfortLiving Bluetooth Speaker</td>\n",
       "      <td>Electronics</td>\n",
       "      <td>300.68</td>\n",
       "    </tr>\n",
       "    <tr>\n",
       "      <th>1</th>\n",
       "      <td>T00112</td>\n",
       "      <td>C0146</td>\n",
       "      <td>P067</td>\n",
       "      <td>2024-05-27 22:23:54</td>\n",
       "      <td>1</td>\n",
       "      <td>300.68</td>\n",
       "      <td>300.68</td>\n",
       "      <td>Brittany Harvey</td>\n",
       "      <td>Asia</td>\n",
       "      <td>2024-09-04</td>\n",
       "      <td>ComfortLiving Bluetooth Speaker</td>\n",
       "      <td>Electronics</td>\n",
       "      <td>300.68</td>\n",
       "    </tr>\n",
       "    <tr>\n",
       "      <th>2</th>\n",
       "      <td>T00166</td>\n",
       "      <td>C0127</td>\n",
       "      <td>P067</td>\n",
       "      <td>2024-04-25 07:38:55</td>\n",
       "      <td>1</td>\n",
       "      <td>300.68</td>\n",
       "      <td>300.68</td>\n",
       "      <td>Kathryn Stevens</td>\n",
       "      <td>Europe</td>\n",
       "      <td>2024-04-04</td>\n",
       "      <td>ComfortLiving Bluetooth Speaker</td>\n",
       "      <td>Electronics</td>\n",
       "      <td>300.68</td>\n",
       "    </tr>\n",
       "    <tr>\n",
       "      <th>3</th>\n",
       "      <td>T00272</td>\n",
       "      <td>C0087</td>\n",
       "      <td>P067</td>\n",
       "      <td>2024-03-26 22:55:37</td>\n",
       "      <td>2</td>\n",
       "      <td>601.36</td>\n",
       "      <td>300.68</td>\n",
       "      <td>Travis Campbell</td>\n",
       "      <td>South America</td>\n",
       "      <td>2024-04-11</td>\n",
       "      <td>ComfortLiving Bluetooth Speaker</td>\n",
       "      <td>Electronics</td>\n",
       "      <td>300.68</td>\n",
       "    </tr>\n",
       "    <tr>\n",
       "      <th>4</th>\n",
       "      <td>T00363</td>\n",
       "      <td>C0070</td>\n",
       "      <td>P067</td>\n",
       "      <td>2024-03-21 15:10:10</td>\n",
       "      <td>3</td>\n",
       "      <td>902.04</td>\n",
       "      <td>300.68</td>\n",
       "      <td>Timothy Perez</td>\n",
       "      <td>Europe</td>\n",
       "      <td>2022-03-15</td>\n",
       "      <td>ComfortLiving Bluetooth Speaker</td>\n",
       "      <td>Electronics</td>\n",
       "      <td>300.68</td>\n",
       "    </tr>\n",
       "  </tbody>\n",
       "</table>\n",
       "</div>"
      ],
      "text/plain": [
       "  TransactionID CustomerID ProductID      TransactionDate  Quantity  \\\n",
       "0        T00001      C0199      P067  2024-08-25 12:38:23         1   \n",
       "1        T00112      C0146      P067  2024-05-27 22:23:54         1   \n",
       "2        T00166      C0127      P067  2024-04-25 07:38:55         1   \n",
       "3        T00272      C0087      P067  2024-03-26 22:55:37         2   \n",
       "4        T00363      C0070      P067  2024-03-21 15:10:10         3   \n",
       "\n",
       "   TotalValue  Price_x     CustomerName         Region  SignupDate  \\\n",
       "0      300.68   300.68   Andrea Jenkins         Europe  2022-12-03   \n",
       "1      300.68   300.68  Brittany Harvey           Asia  2024-09-04   \n",
       "2      300.68   300.68  Kathryn Stevens         Europe  2024-04-04   \n",
       "3      601.36   300.68  Travis Campbell  South America  2024-04-11   \n",
       "4      902.04   300.68    Timothy Perez         Europe  2022-03-15   \n",
       "\n",
       "                       ProductName     Category  Price_y  \n",
       "0  ComfortLiving Bluetooth Speaker  Electronics   300.68  \n",
       "1  ComfortLiving Bluetooth Speaker  Electronics   300.68  \n",
       "2  ComfortLiving Bluetooth Speaker  Electronics   300.68  \n",
       "3  ComfortLiving Bluetooth Speaker  Electronics   300.68  \n",
       "4  ComfortLiving Bluetooth Speaker  Electronics   300.68  "
      ]
     },
     "execution_count": 13,
     "metadata": {},
     "output_type": "execute_result"
    }
   ],
   "source": [
    "data.head()"
   ]
  },
  {
   "cell_type": "markdown",
   "id": "0945debf-7aba-496d-8174-2fe678a7f063",
   "metadata": {},
   "source": [
    "#### 2.Data Summary and Descriptive Statistics: "
   ]
  },
  {
   "cell_type": "code",
   "execution_count": 15,
   "id": "3b22ac63-6b9e-4cae-96bd-372c77b22b04",
   "metadata": {},
   "outputs": [
    {
     "data": {
      "text/plain": [
       "Index(['TransactionID', 'CustomerID', 'ProductID', 'TransactionDate',\n",
       "       'Quantity', 'TotalValue', 'Price_x', 'CustomerName', 'Region',\n",
       "       'SignupDate', 'ProductName', 'Category', 'Price_y'],\n",
       "      dtype='object')"
      ]
     },
     "execution_count": 15,
     "metadata": {},
     "output_type": "execute_result"
    }
   ],
   "source": [
    "data.columns"
   ]
  },
  {
   "cell_type": "code",
   "execution_count": 16,
   "id": "09575925-ab02-46cf-885a-19086fa11cfe",
   "metadata": {},
   "outputs": [
    {
     "data": {
      "text/plain": [
       "(1000, 13)"
      ]
     },
     "execution_count": 16,
     "metadata": {},
     "output_type": "execute_result"
    }
   ],
   "source": [
    "data.shape"
   ]
  },
  {
   "cell_type": "code",
   "execution_count": 17,
   "id": "eb6db9f7-c6d9-4871-9603-c2e711a63a56",
   "metadata": {},
   "outputs": [
    {
     "name": "stdout",
     "output_type": "stream",
     "text": [
      "<class 'pandas.core.frame.DataFrame'>\n",
      "RangeIndex: 1000 entries, 0 to 999\n",
      "Data columns (total 13 columns):\n",
      " #   Column           Non-Null Count  Dtype  \n",
      "---  ------           --------------  -----  \n",
      " 0   TransactionID    1000 non-null   object \n",
      " 1   CustomerID       1000 non-null   object \n",
      " 2   ProductID        1000 non-null   object \n",
      " 3   TransactionDate  1000 non-null   object \n",
      " 4   Quantity         1000 non-null   int64  \n",
      " 5   TotalValue       1000 non-null   float64\n",
      " 6   Price_x          1000 non-null   float64\n",
      " 7   CustomerName     1000 non-null   object \n",
      " 8   Region           1000 non-null   object \n",
      " 9   SignupDate       1000 non-null   object \n",
      " 10  ProductName      1000 non-null   object \n",
      " 11  Category         1000 non-null   object \n",
      " 12  Price_y          1000 non-null   float64\n",
      "dtypes: float64(3), int64(1), object(9)\n",
      "memory usage: 101.7+ KB\n"
     ]
    }
   ],
   "source": [
    "data.info()"
   ]
  },
  {
   "cell_type": "code",
   "execution_count": 18,
   "id": "c4ef1fb0-4625-4bc7-8679-c6f956e125ad",
   "metadata": {},
   "outputs": [
    {
     "data": {
      "text/html": [
       "<div>\n",
       "<style scoped>\n",
       "    .dataframe tbody tr th:only-of-type {\n",
       "        vertical-align: middle;\n",
       "    }\n",
       "\n",
       "    .dataframe tbody tr th {\n",
       "        vertical-align: top;\n",
       "    }\n",
       "\n",
       "    .dataframe thead th {\n",
       "        text-align: right;\n",
       "    }\n",
       "</style>\n",
       "<table border=\"1\" class=\"dataframe\">\n",
       "  <thead>\n",
       "    <tr style=\"text-align: right;\">\n",
       "      <th></th>\n",
       "      <th>Quantity</th>\n",
       "      <th>TotalValue</th>\n",
       "      <th>Price_x</th>\n",
       "      <th>Price_y</th>\n",
       "    </tr>\n",
       "  </thead>\n",
       "  <tbody>\n",
       "    <tr>\n",
       "      <th>count</th>\n",
       "      <td>1000.000000</td>\n",
       "      <td>1000.000000</td>\n",
       "      <td>1000.00000</td>\n",
       "      <td>1000.00000</td>\n",
       "    </tr>\n",
       "    <tr>\n",
       "      <th>mean</th>\n",
       "      <td>2.537000</td>\n",
       "      <td>689.995560</td>\n",
       "      <td>272.55407</td>\n",
       "      <td>272.55407</td>\n",
       "    </tr>\n",
       "    <tr>\n",
       "      <th>std</th>\n",
       "      <td>1.117981</td>\n",
       "      <td>493.144478</td>\n",
       "      <td>140.73639</td>\n",
       "      <td>140.73639</td>\n",
       "    </tr>\n",
       "    <tr>\n",
       "      <th>min</th>\n",
       "      <td>1.000000</td>\n",
       "      <td>16.080000</td>\n",
       "      <td>16.08000</td>\n",
       "      <td>16.08000</td>\n",
       "    </tr>\n",
       "    <tr>\n",
       "      <th>25%</th>\n",
       "      <td>2.000000</td>\n",
       "      <td>295.295000</td>\n",
       "      <td>147.95000</td>\n",
       "      <td>147.95000</td>\n",
       "    </tr>\n",
       "    <tr>\n",
       "      <th>50%</th>\n",
       "      <td>3.000000</td>\n",
       "      <td>588.880000</td>\n",
       "      <td>299.93000</td>\n",
       "      <td>299.93000</td>\n",
       "    </tr>\n",
       "    <tr>\n",
       "      <th>75%</th>\n",
       "      <td>4.000000</td>\n",
       "      <td>1011.660000</td>\n",
       "      <td>404.40000</td>\n",
       "      <td>404.40000</td>\n",
       "    </tr>\n",
       "    <tr>\n",
       "      <th>max</th>\n",
       "      <td>4.000000</td>\n",
       "      <td>1991.040000</td>\n",
       "      <td>497.76000</td>\n",
       "      <td>497.76000</td>\n",
       "    </tr>\n",
       "  </tbody>\n",
       "</table>\n",
       "</div>"
      ],
      "text/plain": [
       "          Quantity   TotalValue     Price_x     Price_y\n",
       "count  1000.000000  1000.000000  1000.00000  1000.00000\n",
       "mean      2.537000   689.995560   272.55407   272.55407\n",
       "std       1.117981   493.144478   140.73639   140.73639\n",
       "min       1.000000    16.080000    16.08000    16.08000\n",
       "25%       2.000000   295.295000   147.95000   147.95000\n",
       "50%       3.000000   588.880000   299.93000   299.93000\n",
       "75%       4.000000  1011.660000   404.40000   404.40000\n",
       "max       4.000000  1991.040000   497.76000   497.76000"
      ]
     },
     "execution_count": 18,
     "metadata": {},
     "output_type": "execute_result"
    }
   ],
   "source": [
    "data.describe()"
   ]
  },
  {
   "cell_type": "code",
   "execution_count": 19,
   "id": "36cbdd2b-c463-4a56-9214-af14a80833f7",
   "metadata": {},
   "outputs": [
    {
     "data": {
      "text/plain": [
       "TransactionID       object\n",
       "CustomerID          object\n",
       "ProductID           object\n",
       "TransactionDate     object\n",
       "Quantity             int64\n",
       "TotalValue         float64\n",
       "Price_x            float64\n",
       "CustomerName        object\n",
       "Region              object\n",
       "SignupDate          object\n",
       "ProductName         object\n",
       "Category            object\n",
       "Price_y            float64\n",
       "dtype: object"
      ]
     },
     "execution_count": 19,
     "metadata": {},
     "output_type": "execute_result"
    }
   ],
   "source": [
    "#to check data Types\n",
    "data.dtypes"
   ]
  },
  {
   "cell_type": "markdown",
   "id": "5f0c43ab-eea8-47b8-94bf-b4a23b85dd76",
   "metadata": {},
   "source": [
    "### 3.Data Cleaning\n"
   ]
  },
  {
   "cell_type": "code",
   "execution_count": 21,
   "id": "3bd3de8b-b67d-4d8a-8bee-e5e78c95200c",
   "metadata": {},
   "outputs": [
    {
     "data": {
      "text/plain": [
       "TransactionID      0\n",
       "CustomerID         0\n",
       "ProductID          0\n",
       "TransactionDate    0\n",
       "Quantity           0\n",
       "TotalValue         0\n",
       "Price_x            0\n",
       "CustomerName       0\n",
       "Region             0\n",
       "SignupDate         0\n",
       "ProductName        0\n",
       "Category           0\n",
       "Price_y            0\n",
       "dtype: int64"
      ]
     },
     "execution_count": 21,
     "metadata": {},
     "output_type": "execute_result"
    }
   ],
   "source": [
    "# checkthe missing values\n",
    "data.isnull().sum()"
   ]
  },
  {
   "cell_type": "raw",
   "id": "5eff33c4-c522-4fd1-81e7-2bf2acf15b16",
   "metadata": {},
   "source": [
    "Observation: \n",
    "There is no Missing Values in the Dataset"
   ]
  },
  {
   "cell_type": "code",
   "execution_count": 22,
   "id": "61c5314f-309d-45fd-a79b-548580d2fba8",
   "metadata": {},
   "outputs": [
    {
     "data": {
      "text/plain": [
       "TransactionID      1000\n",
       "CustomerID          199\n",
       "ProductID           100\n",
       "TransactionDate    1000\n",
       "Quantity              4\n",
       "TotalValue          369\n",
       "Price_x             100\n",
       "CustomerName        199\n",
       "Region                4\n",
       "SignupDate          178\n",
       "ProductName          66\n",
       "Category              4\n",
       "Price_y             100\n",
       "dtype: int64"
      ]
     },
     "execution_count": 22,
     "metadata": {},
     "output_type": "execute_result"
    }
   ],
   "source": [
    "#check unique values\n",
    "data.nunique()\n"
   ]
  },
  {
   "cell_type": "markdown",
   "id": "371f3de5-0d63-4019-8add-c1fcadf9a7fb",
   "metadata": {},
   "source": [
    "##### Duplicate row Removal"
   ]
  },
  {
   "cell_type": "code",
   "execution_count": 24,
   "id": "ae3d31a2-b61e-42ce-9445-26c2a1d55f69",
   "metadata": {},
   "outputs": [],
   "source": [
    "# Check where Price_x and Price_y are equal and drop one of them \n",
    "data= data.loc[:, ~data.columns.isin(['Price_y'])] if (data['Price_x'] == data['Price_y']).all() else data"
   ]
  },
  {
   "cell_type": "code",
   "execution_count": 25,
   "id": "a84f60db-3343-4fbb-89be-18445f7bf5b4",
   "metadata": {},
   "outputs": [
    {
     "data": {
      "text/html": [
       "<div>\n",
       "<style scoped>\n",
       "    .dataframe tbody tr th:only-of-type {\n",
       "        vertical-align: middle;\n",
       "    }\n",
       "\n",
       "    .dataframe tbody tr th {\n",
       "        vertical-align: top;\n",
       "    }\n",
       "\n",
       "    .dataframe thead th {\n",
       "        text-align: right;\n",
       "    }\n",
       "</style>\n",
       "<table border=\"1\" class=\"dataframe\">\n",
       "  <thead>\n",
       "    <tr style=\"text-align: right;\">\n",
       "      <th></th>\n",
       "      <th>TransactionID</th>\n",
       "      <th>CustomerID</th>\n",
       "      <th>ProductID</th>\n",
       "      <th>TransactionDate</th>\n",
       "      <th>Quantity</th>\n",
       "      <th>TotalValue</th>\n",
       "      <th>Price_x</th>\n",
       "      <th>CustomerName</th>\n",
       "      <th>Region</th>\n",
       "      <th>SignupDate</th>\n",
       "      <th>ProductName</th>\n",
       "      <th>Category</th>\n",
       "    </tr>\n",
       "  </thead>\n",
       "  <tbody>\n",
       "    <tr>\n",
       "      <th>0</th>\n",
       "      <td>T00001</td>\n",
       "      <td>C0199</td>\n",
       "      <td>P067</td>\n",
       "      <td>2024-08-25 12:38:23</td>\n",
       "      <td>1</td>\n",
       "      <td>300.68</td>\n",
       "      <td>300.68</td>\n",
       "      <td>Andrea Jenkins</td>\n",
       "      <td>Europe</td>\n",
       "      <td>2022-12-03</td>\n",
       "      <td>ComfortLiving Bluetooth Speaker</td>\n",
       "      <td>Electronics</td>\n",
       "    </tr>\n",
       "    <tr>\n",
       "      <th>1</th>\n",
       "      <td>T00112</td>\n",
       "      <td>C0146</td>\n",
       "      <td>P067</td>\n",
       "      <td>2024-05-27 22:23:54</td>\n",
       "      <td>1</td>\n",
       "      <td>300.68</td>\n",
       "      <td>300.68</td>\n",
       "      <td>Brittany Harvey</td>\n",
       "      <td>Asia</td>\n",
       "      <td>2024-09-04</td>\n",
       "      <td>ComfortLiving Bluetooth Speaker</td>\n",
       "      <td>Electronics</td>\n",
       "    </tr>\n",
       "    <tr>\n",
       "      <th>2</th>\n",
       "      <td>T00166</td>\n",
       "      <td>C0127</td>\n",
       "      <td>P067</td>\n",
       "      <td>2024-04-25 07:38:55</td>\n",
       "      <td>1</td>\n",
       "      <td>300.68</td>\n",
       "      <td>300.68</td>\n",
       "      <td>Kathryn Stevens</td>\n",
       "      <td>Europe</td>\n",
       "      <td>2024-04-04</td>\n",
       "      <td>ComfortLiving Bluetooth Speaker</td>\n",
       "      <td>Electronics</td>\n",
       "    </tr>\n",
       "    <tr>\n",
       "      <th>3</th>\n",
       "      <td>T00272</td>\n",
       "      <td>C0087</td>\n",
       "      <td>P067</td>\n",
       "      <td>2024-03-26 22:55:37</td>\n",
       "      <td>2</td>\n",
       "      <td>601.36</td>\n",
       "      <td>300.68</td>\n",
       "      <td>Travis Campbell</td>\n",
       "      <td>South America</td>\n",
       "      <td>2024-04-11</td>\n",
       "      <td>ComfortLiving Bluetooth Speaker</td>\n",
       "      <td>Electronics</td>\n",
       "    </tr>\n",
       "    <tr>\n",
       "      <th>4</th>\n",
       "      <td>T00363</td>\n",
       "      <td>C0070</td>\n",
       "      <td>P067</td>\n",
       "      <td>2024-03-21 15:10:10</td>\n",
       "      <td>3</td>\n",
       "      <td>902.04</td>\n",
       "      <td>300.68</td>\n",
       "      <td>Timothy Perez</td>\n",
       "      <td>Europe</td>\n",
       "      <td>2022-03-15</td>\n",
       "      <td>ComfortLiving Bluetooth Speaker</td>\n",
       "      <td>Electronics</td>\n",
       "    </tr>\n",
       "  </tbody>\n",
       "</table>\n",
       "</div>"
      ],
      "text/plain": [
       "  TransactionID CustomerID ProductID      TransactionDate  Quantity  \\\n",
       "0        T00001      C0199      P067  2024-08-25 12:38:23         1   \n",
       "1        T00112      C0146      P067  2024-05-27 22:23:54         1   \n",
       "2        T00166      C0127      P067  2024-04-25 07:38:55         1   \n",
       "3        T00272      C0087      P067  2024-03-26 22:55:37         2   \n",
       "4        T00363      C0070      P067  2024-03-21 15:10:10         3   \n",
       "\n",
       "   TotalValue  Price_x     CustomerName         Region  SignupDate  \\\n",
       "0      300.68   300.68   Andrea Jenkins         Europe  2022-12-03   \n",
       "1      300.68   300.68  Brittany Harvey           Asia  2024-09-04   \n",
       "2      300.68   300.68  Kathryn Stevens         Europe  2024-04-04   \n",
       "3      601.36   300.68  Travis Campbell  South America  2024-04-11   \n",
       "4      902.04   300.68    Timothy Perez         Europe  2022-03-15   \n",
       "\n",
       "                       ProductName     Category  \n",
       "0  ComfortLiving Bluetooth Speaker  Electronics  \n",
       "1  ComfortLiving Bluetooth Speaker  Electronics  \n",
       "2  ComfortLiving Bluetooth Speaker  Electronics  \n",
       "3  ComfortLiving Bluetooth Speaker  Electronics  \n",
       "4  ComfortLiving Bluetooth Speaker  Electronics  "
      ]
     },
     "execution_count": 25,
     "metadata": {},
     "output_type": "execute_result"
    }
   ],
   "source": [
    "data.head()"
   ]
  },
  {
   "cell_type": "code",
   "execution_count": 26,
   "id": "838bf88b-23b1-4e4f-bfe7-5898ca9acdc0",
   "metadata": {},
   "outputs": [],
   "source": [
    "#drop unique identifier\n",
    "data = data.drop(['TransactionID','ProductID'], axis=1)\n"
   ]
  },
  {
   "cell_type": "raw",
   "id": "d0f7fc2c-8dda-4a63-bae9-c1ac9751fad9",
   "metadata": {},
   "source": [
    "Interpretation:The TransactionID,ProductID columns were removed as they are unique identifiers that do not contribute to higher-level analysis. These columns can introduce noise in data processing, and removing them simplifies the dataset while maintaining focus on meaningful features that support broader business insights and modeling."
   ]
  },
  {
   "cell_type": "code",
   "execution_count": 27,
   "id": "17422fd8-44f0-4408-b437-28439448bb49",
   "metadata": {},
   "outputs": [
    {
     "data": {
      "text/plain": [
       "CustomerID                 object\n",
       "TransactionDate    datetime64[ns]\n",
       "Quantity                    int64\n",
       "TotalValue                float64\n",
       "Price_x                   float64\n",
       "CustomerName               object\n",
       "Region                     object\n",
       "SignupDate         datetime64[ns]\n",
       "ProductName                object\n",
       "Category                   object\n",
       "dtype: object"
      ]
     },
     "execution_count": 27,
     "metadata": {},
     "output_type": "execute_result"
    }
   ],
   "source": [
    "#convert data types into datetime\n",
    "data['SignupDate'] = pd.to_datetime(data['SignupDate'])\n",
    "data['TransactionDate'] = pd.to_datetime(data['TransactionDate'])\n",
    "data.dtypes"
   ]
  },
  {
   "cell_type": "markdown",
   "id": "472fd311-875c-4e85-a09a-619df5d9d592",
   "metadata": {},
   "source": [
    "#### 4.Exploratory Visualizations:"
   ]
  },
  {
   "cell_type": "markdown",
   "id": "a4f29cdd-dd3c-4c72-b627-a6720b4641c0",
   "metadata": {},
   "source": [
    "### 1. Group sales by region\n"
   ]
  },
  {
   "cell_type": "code",
   "execution_count": 30,
   "id": "8c86325c-994b-4340-8532-4e10be5fbe19",
   "metadata": {},
   "outputs": [
    {
     "data": {
      "image/png": "[encoded data removed]",
      "text/plain": [
       "<Figure size 800x600 with 1 Axes>"
      ]
     },
     "metadata": {},
     "output_type": "display_data"
    }
   ],
   "source": [
    "region_sales = data.groupby('Region')['TotalValue'].sum().reset_index()\n",
    "\n",
    "# Plot regional sales\n",
    "plt.figure(figsize=(8, 6))\n",
    "sns.barplot(data=region_sales, x='TotalValue', y='Region', hue='Region', palette='coolwarm', legend=False)\n",
    "plt.title('Sales Performance by Region')\n",
    "plt.xlabel('Total Revenue (USD)')\n",
    "plt.ylabel('Region')\n",
    "plt.show()\n"
   ]
  },
  {
   "cell_type": "markdown",
   "id": "94982971-5392-411b-9330-5fffd2866a56",
   "metadata": {},
   "source": [
    "##### Business Insights:\n",
    " - South America has the highest sales, indicating strong demand in this region. The company should consider investing more in South America to take advantage of this growth.\n",
    " - Europe comes in second, which is good but shows room for improvement. The company could focus on boosting sales in Europe with targeted strategies.\n",
    " - Asia and North America  are performing lower. The company could explore new opportunities or marketing strategies in these regions to increase sales."
   ]
  },
  {
   "cell_type": "markdown",
   "id": "2e34c87f-85e4-4770-9d2c-b1d29947fd16",
   "metadata": {},
   "source": [
    "### 2.Calculate quantity sold for each product\n"
   ]
  },
  {
   "cell_type": "code",
   "execution_count": 33,
   "id": "b359222a-c9fe-45cc-8ff1-4b44339e16b8",
   "metadata": {},
   "outputs": [
    {
     "data": {
      "image/png": "[encoded data removed]",
      "text/plain": [
       "<Figure size 1000x600 with 1 Axes>"
      ]
     },
     "metadata": {},
     "output_type": "display_data"
    },
    {
     "data": {
      "image/png": "[encoded data removed]",
      "text/plain": [
       "<Figure size 1000x600 with 1 Axes>"
      ]
     },
     "metadata": {},
     "output_type": "display_data"
    }
   ],
   "source": [
    "product_quantity = data.groupby('ProductName')['Quantity'].sum().reset_index()\n",
    "\n",
    "\n",
    "\n",
    "### top 5 product\n",
    "# Sort by quantity sold\n",
    "top_products = product_quantity.sort_values(by='Quantity', ascending=False).head(5)\n",
    "\n",
    "# Plot top products\n",
    "plt.figure(figsize=(10, 6))\n",
    "sns.barplot(data=top_products, x='Quantity', y='ProductName', palette='viridis',legend=False, hue='ProductName')\n",
    "plt.title('5 Most Frequently Purchased Products')\n",
    "plt.xlabel('Quantity Sold')\n",
    "plt.ylabel('Product Name')\n",
    "plt.show()\n",
    "\n",
    "### least 5 product\n",
    "# Sort by quantity sold\n",
    "top_products = product_quantity.sort_values(by='Quantity', ascending=False).tail(5)\n",
    "\n",
    "# Plot top products\n",
    "plt.figure(figsize=(10, 6))\n",
    "sns.barplot(data=top_products, x='Quantity', y='ProductName', palette='viridis',legend=False, hue='ProductName')\n",
    "plt.title('5 Underperforming Products')\n",
    "plt.xlabel('Quantity Sold')\n",
    "plt.ylabel('Product Name')\n",
    "plt.show()"
   ]
  },
  {
   "cell_type": "markdown",
   "id": "8667f7b3-c013-4af4-b711-c7fc6655af5c",
   "metadata": {},
   "source": [
    "##### Business Insights:\n",
    " - Top 5 Products: These products are the most popular and in high demand. Focus on increasing stock and promotions for these items to meet customer preferences.\n",
    " - Least 5 Products: These products have low sales and may be underperforming. Investigate reasons for low demand, such as pricing, availability, or relevance, and consider promotional strategies or product improvements.\n",
    " - Strategy: Increase visibility and marketing for top products while reevaluating or discontinuing underperforming items. Optimize inventory management based on sales trends.\n",
    "\n",
    "\n",
    "\n",
    "\n",
    "\n",
    "\n"
   ]
  },
  {
   "cell_type": "markdown",
   "id": "20ea1b9a-c75a-4acd-8306-df3053b089fd",
   "metadata": {},
   "source": [
    "### 3.Top 5 High-Value Customers"
   ]
  },
  {
   "cell_type": "code",
   "execution_count": 36,
   "id": "fd8114a4-635a-4b39-bb9d-f595bc69817c",
   "metadata": {},
   "outputs": [
    {
     "data": {
      "image/png": "[encoded data removed]",
      "text/plain": [
       "<Figure size 1000x600 with 1 Axes>"
      ]
     },
     "metadata": {},
     "output_type": "display_data"
    }
   ],
   "source": [
    "# Calculate total spending by customer\n",
    "customer_spending = data.groupby(['CustomerID', 'CustomerName'])['TotalValue'].sum().reset_index()\n",
    "\n",
    "# Sort by total spending\n",
    "top_customers = customer_spending.sort_values(by='TotalValue', ascending=False).head(5)\n",
    "\n",
    "# Plot top customers\n",
    "plt.figure(figsize=(10, 6))\n",
    "sns.barplot(data=top_customers, x='TotalValue', y='CustomerName', palette='plasma',legend=False, hue='CustomerName')\n",
    "plt.title('Top 5 High-Value Customers')\n",
    "plt.xlabel('Total Spending (USD)')\n",
    "plt.ylabel('Customer Name')\n",
    "plt.show()\n"
   ]
  },
  {
   "cell_type": "markdown",
   "id": "8d9973d1-69dc-48e9-9228-5c7a0a53cc12",
   "metadata": {},
   "source": [
    "##### Business Insights :\n",
    " - The top 5 customers, led by Paul Parsons, are the biggest contributors to overall spending.\n",
    " - Knowing which regions these customers come from can help identify areas driving the most revenue.\n",
    " - Understanding what products they prefer gives insight into popular categories and helps tailor offerings.\n",
    " - These customers are valuable and should be prioritized for loyalty programs and personalized experiences.\n",
    " - Expanding efforts to attract more customers with similar buying patterns can boost overall sales."
   ]
  },
  {
   "cell_type": "markdown",
   "id": "72925251-8494-464d-954a-ca68d466e84f",
   "metadata": {},
   "source": [
    "### 4.Product Category Distribution"
   ]
  },
  {
   "cell_type": "code",
   "execution_count": 39,
   "id": "e732b15d-7cfc-4851-a57a-916c01d8571a",
   "metadata": {},
   "outputs": [
    {
     "name": "stdout",
     "output_type": "stream",
     "text": [
      "Category\n",
      "Books          270\n",
      "Electronics    254\n",
      "Home Decor     248\n",
      "Clothing       228\n",
      "Name: count, dtype: int64\n"
     ]
    },
    {
     "data": {
      "text/plain": [
       "<Axes: title={'center': 'Product Category Distribution'}, ylabel='count'>"
      ]
     },
     "execution_count": 39,
     "metadata": {},
     "output_type": "execute_result"
    },
    {
     "data": {
      "image/png": "[encoded data removed]",
      "text/plain": [
       "<Figure size 640x480 with 1 Axes>"
      ]
     },
     "metadata": {},
     "output_type": "display_data"
    }
   ],
   "source": [
    "category_distribution = data['Category'].value_counts()\n",
    "print(category_distribution)\n",
    "category_distribution.plot(kind='pie', autopct='%1.1f%%', title='Product Category Distribution')\n"
   ]
  },
  {
   "cell_type": "markdown",
   "id": "ed11f897-a7b5-4117-8eb1-48da6c32597e",
   "metadata": {},
   "source": [
    "##### Business Insights:\n",
    " - This pie chart shows us what people are buying most on this e-commerce site. \n",
    " - \"Books\" are the biggest hit, making up nearly 27% of sales. \n",
    " - \"Electronics\" and \"Home Decor\" are also popular, with around 25% and 24% of sales respectively. \n",
    " - \"Clothing\" is still important, but makes up a slightly smaller portion at 22.8%."
   ]
  },
  {
   "cell_type": "markdown",
   "id": "bd0ba687-9dee-4b2f-9084-b6e252e421b4",
   "metadata": {},
   "source": [
    "### 5.Seasonal Trends in Transactions (Month-Wise)"
   ]
  },
  {
   "cell_type": "code",
   "execution_count": 42,
   "id": "2db1ee18-03f3-47cb-a362-b4033662aac6",
   "metadata": {
    "scrolled": true
   },
   "outputs": [
    {
     "data": {
      "image/png": "[encoded data removed]",
      "text/plain": [
       "<Figure size 700x300 with 1 Axes>"
      ]
     },
     "metadata": {},
     "output_type": "display_data"
    },
    {
     "name": "stdout",
     "output_type": "stream",
     "text": [
      "The month with the most transactions is month 1 with 107 transactions.\n"
     ]
    }
   ],
   "source": [
    "# Extract the month from 'TransactionDate' without adding it to the DataFrame\n",
    "month_transactions = data['TransactionDate'].dt.month.value_counts().sort_index().reset_index(name='TransactionCount')\n",
    "month_transactions.columns = ['TransactionMonth', 'TransactionCount']\n",
    "\n",
    "# Find the month with the highest number of transactions\n",
    "max_month = month_transactions.loc[month_transactions['TransactionCount'].idxmax()]\n",
    "\n",
    "# Plot the seasonality (month-wise trends across all years)\n",
    "plt.figure(figsize=(7, 3))\n",
    "plt.bar(month_transactions['TransactionMonth'], month_transactions['TransactionCount'], color='orange', alpha=0.8)\n",
    "\n",
    "# Highlight the month with the most transactions\n",
    "plt.bar(max_month['TransactionMonth'], max_month['TransactionCount'], color='red', alpha=0.8)\n",
    "\n",
    "plt.title('Seasonal Trends in Transactions (Month-Wise)', fontsize=14)\n",
    "plt.xlabel('Month', fontsize=12)\n",
    "plt.ylabel('Number of Transactions', fontsize=12)\n",
    "plt.xticks(range(1, 13))\n",
    "plt.grid(alpha=0.5, axis='y')\n",
    "\n",
    "# Show the plot\n",
    "plt.show()\n",
    "\n",
    "# Print the month with the most transactions\n",
    "print(f\"The month with the most transactions is month {max_month['TransactionMonth']} with {max_month['TransactionCount']} transactions.\")\n"
   ]
  },
  {
   "cell_type": "markdown",
   "id": "cf2b22f1-bdd2-4db7-9336-31483ae47935",
   "metadata": {},
   "source": [
    "##### Business Insights:-\n",
    " - January sees the most transactions, likely because of New Year's sales, clearances, and promotions.\n",
    " - This is the best time for businesses to increase revenue by focusing on stock, staff, and marketing.\n",
    " - Preparing well for this month ensures customer needs are met, operations run smoothly, and profits soar. Also, special deals and marketing can further tap into this busy period.\n",
    "\n"
   ]
  },
  {
   "cell_type": "markdown",
   "id": "48e248d5-b740-434f-b9af-06fe19804522",
   "metadata": {},
   "source": [
    "### 6.Retention Percentage Over Different Time Periods"
   ]
  },
  {
   "cell_type": "code",
   "execution_count": 45,
   "id": "ce37d7a6-26e7-4ffa-870a-914d0567faa9",
   "metadata": {},
   "outputs": [
    {
     "data": {
      "image/png": "[encoded data removed]",
      "text/plain": [
       "<Figure size 800x500 with 1 Axes>"
      ]
     },
     "metadata": {},
     "output_type": "display_data"
    }
   ],
   "source": [
    "import pandas as pd\n",
    "import matplotlib.pyplot as plt\n",
    "import seaborn as sns\n",
    "\n",
    "# Assuming your data is in a DataFrame named 'data' with a 'SignupDate' column\n",
    "data['SignupDate'] = pd.to_datetime(data['SignupDate'])  # Ensure 'SignupDate' is in datetime format\n",
    "data['MonthsSinceSignup'] = (pd.to_datetime('today') - data['SignupDate']).dt.days // 30  # Calculate months since signup\n",
    "\n",
    "# Group by 'MonthsSinceSignup' and count customers\n",
    "month_signups = data.groupby('MonthsSinceSignup').size().reset_index(name='CustomerCount')\n",
    "\n",
    "# Calculate the retention rate for each timeframe\n",
    "retention_rate_1_year = len(month_signups[month_signups['MonthsSinceSignup'] <= 12]) / len(month_signups)\n",
    "retention_rate_2_years = len(month_signups[month_signups['MonthsSinceSignup'] <= 24]) / len(month_signups)\n",
    "retention_rate_3_years = len(month_signups[month_signups['MonthsSinceSignup'] <= 36]) / len(month_signups)\n",
    "\n",
    "# Plot retention rates for the specified time periods\n",
    "timeframes = ['2024', '2023', '2022']\n",
    "retention_rates = [retention_rate_1_year, retention_rate_2_years, retention_rate_3_years]\n",
    "\n",
    "plt.figure(figsize=(8, 5))\n",
    "sns.barplot(x=timeframes, y=retention_rates, hue=timeframes, palette='coolwarm', legend=False)\n",
    "plt.title('Retention Percentage Over Different Time Periods')\n",
    "plt.xlabel('Time Period')\n",
    "plt.ylabel('Retention Rate')\n",
    "plt.ylim(0, 1)  # Ensure the y-axis shows percentages\n",
    "plt.show()\n"
   ]
  },
  {
   "cell_type": "markdown",
   "id": "569c4619-3331-4fd9-9f7b-e5dc4c42a677",
   "metadata": {},
   "source": [
    "##### Business Insights:\n",
    " - Retention was strongest in 2022 but has steadily declined through 2024, suggesting possible issues with customer satisfaction or market changes.\n",
    " - Businesses should examine the reasons behind the high retention in 2022 and explore what led to the drop afterward. Identifying these factors is crucial for improving customer loyalty and retention, enabling businesses to reverse the trend and enhance customer satisfaction in the future.\n",
    "\n",
    "\n",
    "\n",
    "\n",
    "\n",
    "\n",
    "\n"
   ]
  },
  {
   "cell_type": "markdown",
   "id": "31525fb7-e1d0-4efd-a5ae-9b4fdbe6c515",
   "metadata": {},
   "source": [
    "### 5.Feature Engineering"
   ]
  },
  {
   "cell_type": "code",
   "execution_count": 48,
   "id": "bb693aa9-87bb-42bb-bea5-b3e42340b83c",
   "metadata": {},
   "outputs": [
    {
     "data": {
      "text/html": [
       "<div>\n",
       "<style scoped>\n",
       "    .dataframe tbody tr th:only-of-type {\n",
       "        vertical-align: middle;\n",
       "    }\n",
       "\n",
       "    .dataframe tbody tr th {\n",
       "        vertical-align: top;\n",
       "    }\n",
       "\n",
       "    .dataframe thead th {\n",
       "        text-align: right;\n",
       "    }\n",
       "</style>\n",
       "<table border=\"1\" class=\"dataframe\">\n",
       "  <thead>\n",
       "    <tr style=\"text-align: right;\">\n",
       "      <th></th>\n",
       "      <th>CustomerID</th>\n",
       "      <th>TransactionDate</th>\n",
       "      <th>Quantity</th>\n",
       "      <th>TotalValue</th>\n",
       "      <th>Price_x</th>\n",
       "      <th>CustomerName</th>\n",
       "      <th>Region</th>\n",
       "      <th>SignupDate</th>\n",
       "      <th>ProductName</th>\n",
       "      <th>Category</th>\n",
       "      <th>MonthsSinceSignup</th>\n",
       "    </tr>\n",
       "  </thead>\n",
       "  <tbody>\n",
       "    <tr>\n",
       "      <th>0</th>\n",
       "      <td>C0199</td>\n",
       "      <td>2024-08-25 12:38:23</td>\n",
       "      <td>1</td>\n",
       "      <td>300.68</td>\n",
       "      <td>300.68</td>\n",
       "      <td>Andrea Jenkins</td>\n",
       "      <td>Europe</td>\n",
       "      <td>2022-12-03</td>\n",
       "      <td>ComfortLiving Bluetooth Speaker</td>\n",
       "      <td>Electronics</td>\n",
       "      <td>25</td>\n",
       "    </tr>\n",
       "    <tr>\n",
       "      <th>1</th>\n",
       "      <td>C0146</td>\n",
       "      <td>2024-05-27 22:23:54</td>\n",
       "      <td>1</td>\n",
       "      <td>300.68</td>\n",
       "      <td>300.68</td>\n",
       "      <td>Brittany Harvey</td>\n",
       "      <td>Asia</td>\n",
       "      <td>2024-09-04</td>\n",
       "      <td>ComfortLiving Bluetooth Speaker</td>\n",
       "      <td>Electronics</td>\n",
       "      <td>4</td>\n",
       "    </tr>\n",
       "    <tr>\n",
       "      <th>2</th>\n",
       "      <td>C0127</td>\n",
       "      <td>2024-04-25 07:38:55</td>\n",
       "      <td>1</td>\n",
       "      <td>300.68</td>\n",
       "      <td>300.68</td>\n",
       "      <td>Kathryn Stevens</td>\n",
       "      <td>Europe</td>\n",
       "      <td>2024-04-04</td>\n",
       "      <td>ComfortLiving Bluetooth Speaker</td>\n",
       "      <td>Electronics</td>\n",
       "      <td>9</td>\n",
       "    </tr>\n",
       "    <tr>\n",
       "      <th>3</th>\n",
       "      <td>C0087</td>\n",
       "      <td>2024-03-26 22:55:37</td>\n",
       "      <td>2</td>\n",
       "      <td>601.36</td>\n",
       "      <td>300.68</td>\n",
       "      <td>Travis Campbell</td>\n",
       "      <td>South America</td>\n",
       "      <td>2024-04-11</td>\n",
       "      <td>ComfortLiving Bluetooth Speaker</td>\n",
       "      <td>Electronics</td>\n",
       "      <td>9</td>\n",
       "    </tr>\n",
       "    <tr>\n",
       "      <th>4</th>\n",
       "      <td>C0070</td>\n",
       "      <td>2024-03-21 15:10:10</td>\n",
       "      <td>3</td>\n",
       "      <td>902.04</td>\n",
       "      <td>300.68</td>\n",
       "      <td>Timothy Perez</td>\n",
       "      <td>Europe</td>\n",
       "      <td>2022-03-15</td>\n",
       "      <td>ComfortLiving Bluetooth Speaker</td>\n",
       "      <td>Electronics</td>\n",
       "      <td>34</td>\n",
       "    </tr>\n",
       "  </tbody>\n",
       "</table>\n",
       "</div>"
      ],
      "text/plain": [
       "  CustomerID     TransactionDate  Quantity  TotalValue  Price_x  \\\n",
       "0      C0199 2024-08-25 12:38:23         1      300.68   300.68   \n",
       "1      C0146 2024-05-27 22:23:54         1      300.68   300.68   \n",
       "2      C0127 2024-04-25 07:38:55         1      300.68   300.68   \n",
       "3      C0087 2024-03-26 22:55:37         2      601.36   300.68   \n",
       "4      C0070 2024-03-21 15:10:10         3      902.04   300.68   \n",
       "\n",
       "      CustomerName         Region SignupDate                      ProductName  \\\n",
       "0   Andrea Jenkins         Europe 2022-12-03  ComfortLiving Bluetooth Speaker   \n",
       "1  Brittany Harvey           Asia 2024-09-04  ComfortLiving Bluetooth Speaker   \n",
       "2  Kathryn Stevens         Europe 2024-04-04  ComfortLiving Bluetooth Speaker   \n",
       "3  Travis Campbell  South America 2024-04-11  ComfortLiving Bluetooth Speaker   \n",
       "4    Timothy Perez         Europe 2022-03-15  ComfortLiving Bluetooth Speaker   \n",
       "\n",
       "      Category  MonthsSinceSignup  \n",
       "0  Electronics                 25  \n",
       "1  Electronics                  4  \n",
       "2  Electronics                  9  \n",
       "3  Electronics                  9  \n",
       "4  Electronics                 34  "
      ]
     },
     "execution_count": 48,
     "metadata": {},
     "output_type": "execute_result"
    }
   ],
   "source": [
    "today = pd.to_datetime('today')\n",
    "\n",
    "# Calculate the difference in months\n",
    "data['MonthsSinceSignup'] = (today.year - data['SignupDate'].dt.year) * 12 + today.month - data['SignupDate'].dt.month\n",
    "\n",
    "# Display the result\n",
    "data.head()"
   ]
  },
  {
   "cell_type": "markdown",
   "id": "07a13452-cbfe-4fe2-bd4f-94b33c59d31a",
   "metadata": {},
   "source": [
    "Interpretation:\n",
    "The MonthsSinceSignup column was added to quantify the time elapsed since a customer signed up, expressed in months. This helps analyze customer lifecycle, identify patterns of retention, and segment customers based on their signup duration. It provides actionable insights for targeted marketing and behavior prediction strategies."
   ]
  },
  {
   "cell_type": "markdown",
   "id": "a8db97b6-c3bb-445e-b016-f109559f7dff",
   "metadata": {},
   "source": [
    "### 6. One hot Encoding "
   ]
  },
  {
   "cell_type": "code",
   "execution_count": 89,
   "id": "7593d242-ed34-4f09-bbab-7f979f55478a",
   "metadata": {},
   "outputs": [
    {
     "ename": "KeyError",
     "evalue": "\"None of [Index(['Region'], dtype='object')] are in the [columns]\"",
     "output_type": "error",
     "traceback": [
      "\u001b[1;31m---------------------------------------------------------------------------\u001b[0m",
      "\u001b[1;31mKeyError\u001b[0m                                  Traceback (most recent call last)",
      "Cell \u001b[1;32mIn[89], line 2\u001b[0m\n\u001b[0;32m      1\u001b[0m \u001b[38;5;66;03m# Perform one-hot encoding on 'Region' and 'Category' columns\u001b[39;00m\n\u001b[1;32m----> 2\u001b[0m data \u001b[38;5;241m=\u001b[39m pd\u001b[38;5;241m.\u001b[39mget_dummies(data, columns\u001b[38;5;241m=\u001b[39m[\u001b[38;5;124m'\u001b[39m\u001b[38;5;124mRegion\u001b[39m\u001b[38;5;124m'\u001b[39m], drop_first\u001b[38;5;241m=\u001b[39m\u001b[38;5;28;01mTrue\u001b[39;00m)\n\u001b[0;32m      3\u001b[0m data \u001b[38;5;241m=\u001b[39m pd\u001b[38;5;241m.\u001b[39mget_dummies(data, columns\u001b[38;5;241m=\u001b[39m[\u001b[38;5;124m'\u001b[39m\u001b[38;5;124mCategory\u001b[39m\u001b[38;5;124m'\u001b[39m], drop_first\u001b[38;5;241m=\u001b[39m\u001b[38;5;28;01mTrue\u001b[39;00m)\n",
      "File \u001b[1;32m~\\anaconda3\\Lib\\site-packages\\pandas\\core\\reshape\\encoding.py:169\u001b[0m, in \u001b[0;36mget_dummies\u001b[1;34m(data, prefix, prefix_sep, dummy_na, columns, sparse, drop_first, dtype)\u001b[0m\n\u001b[0;32m    167\u001b[0m     \u001b[38;5;28;01mraise\u001b[39;00m \u001b[38;5;167;01mTypeError\u001b[39;00m(\u001b[38;5;124m\"\u001b[39m\u001b[38;5;124mInput must be a list-like for parameter `columns`\u001b[39m\u001b[38;5;124m\"\u001b[39m)\n\u001b[0;32m    168\u001b[0m \u001b[38;5;28;01melse\u001b[39;00m:\n\u001b[1;32m--> 169\u001b[0m     data_to_encode \u001b[38;5;241m=\u001b[39m data[columns]\n\u001b[0;32m    171\u001b[0m \u001b[38;5;66;03m# validate prefixes and separator to avoid silently dropping cols\u001b[39;00m\n\u001b[0;32m    172\u001b[0m \u001b[38;5;28;01mdef\u001b[39;00m \u001b[38;5;21mcheck_len\u001b[39m(item, name: \u001b[38;5;28mstr\u001b[39m):\n",
      "File \u001b[1;32m~\\anaconda3\\Lib\\site-packages\\pandas\\core\\frame.py:4108\u001b[0m, in \u001b[0;36mDataFrame.__getitem__\u001b[1;34m(self, key)\u001b[0m\n\u001b[0;32m   4106\u001b[0m     \u001b[38;5;28;01mif\u001b[39;00m is_iterator(key):\n\u001b[0;32m   4107\u001b[0m         key \u001b[38;5;241m=\u001b[39m \u001b[38;5;28mlist\u001b[39m(key)\n\u001b[1;32m-> 4108\u001b[0m     indexer \u001b[38;5;241m=\u001b[39m \u001b[38;5;28mself\u001b[39m\u001b[38;5;241m.\u001b[39mcolumns\u001b[38;5;241m.\u001b[39m_get_indexer_strict(key, \u001b[38;5;124m\"\u001b[39m\u001b[38;5;124mcolumns\u001b[39m\u001b[38;5;124m\"\u001b[39m)[\u001b[38;5;241m1\u001b[39m]\n\u001b[0;32m   4110\u001b[0m \u001b[38;5;66;03m# take() does not accept boolean indexers\u001b[39;00m\n\u001b[0;32m   4111\u001b[0m \u001b[38;5;28;01mif\u001b[39;00m \u001b[38;5;28mgetattr\u001b[39m(indexer, \u001b[38;5;124m\"\u001b[39m\u001b[38;5;124mdtype\u001b[39m\u001b[38;5;124m\"\u001b[39m, \u001b[38;5;28;01mNone\u001b[39;00m) \u001b[38;5;241m==\u001b[39m \u001b[38;5;28mbool\u001b[39m:\n",
      "File \u001b[1;32m~\\anaconda3\\Lib\\site-packages\\pandas\\core\\indexes\\base.py:6200\u001b[0m, in \u001b[0;36mIndex._get_indexer_strict\u001b[1;34m(self, key, axis_name)\u001b[0m\n\u001b[0;32m   6197\u001b[0m \u001b[38;5;28;01melse\u001b[39;00m:\n\u001b[0;32m   6198\u001b[0m     keyarr, indexer, new_indexer \u001b[38;5;241m=\u001b[39m \u001b[38;5;28mself\u001b[39m\u001b[38;5;241m.\u001b[39m_reindex_non_unique(keyarr)\n\u001b[1;32m-> 6200\u001b[0m \u001b[38;5;28mself\u001b[39m\u001b[38;5;241m.\u001b[39m_raise_if_missing(keyarr, indexer, axis_name)\n\u001b[0;32m   6202\u001b[0m keyarr \u001b[38;5;241m=\u001b[39m \u001b[38;5;28mself\u001b[39m\u001b[38;5;241m.\u001b[39mtake(indexer)\n\u001b[0;32m   6203\u001b[0m \u001b[38;5;28;01mif\u001b[39;00m \u001b[38;5;28misinstance\u001b[39m(key, Index):\n\u001b[0;32m   6204\u001b[0m     \u001b[38;5;66;03m# GH 42790 - Preserve name from an Index\u001b[39;00m\n",
      "File \u001b[1;32m~\\anaconda3\\Lib\\site-packages\\pandas\\core\\indexes\\base.py:6249\u001b[0m, in \u001b[0;36mIndex._raise_if_missing\u001b[1;34m(self, key, indexer, axis_name)\u001b[0m\n\u001b[0;32m   6247\u001b[0m \u001b[38;5;28;01mif\u001b[39;00m nmissing:\n\u001b[0;32m   6248\u001b[0m     \u001b[38;5;28;01mif\u001b[39;00m nmissing \u001b[38;5;241m==\u001b[39m \u001b[38;5;28mlen\u001b[39m(indexer):\n\u001b[1;32m-> 6249\u001b[0m         \u001b[38;5;28;01mraise\u001b[39;00m \u001b[38;5;167;01mKeyError\u001b[39;00m(\u001b[38;5;124mf\u001b[39m\u001b[38;5;124m\"\u001b[39m\u001b[38;5;124mNone of [\u001b[39m\u001b[38;5;132;01m{\u001b[39;00mkey\u001b[38;5;132;01m}\u001b[39;00m\u001b[38;5;124m] are in the [\u001b[39m\u001b[38;5;132;01m{\u001b[39;00maxis_name\u001b[38;5;132;01m}\u001b[39;00m\u001b[38;5;124m]\u001b[39m\u001b[38;5;124m\"\u001b[39m)\n\u001b[0;32m   6251\u001b[0m     not_found \u001b[38;5;241m=\u001b[39m \u001b[38;5;28mlist\u001b[39m(ensure_index(key)[missing_mask\u001b[38;5;241m.\u001b[39mnonzero()[\u001b[38;5;241m0\u001b[39m]]\u001b[38;5;241m.\u001b[39munique())\n\u001b[0;32m   6252\u001b[0m     \u001b[38;5;28;01mraise\u001b[39;00m \u001b[38;5;167;01mKeyError\u001b[39;00m(\u001b[38;5;124mf\u001b[39m\u001b[38;5;124m\"\u001b[39m\u001b[38;5;132;01m{\u001b[39;00mnot_found\u001b[38;5;132;01m}\u001b[39;00m\u001b[38;5;124m not in index\u001b[39m\u001b[38;5;124m\"\u001b[39m)\n",
      "\u001b[1;31mKeyError\u001b[0m: \"None of [Index(['Region'], dtype='object')] are in the [columns]\""
     ]
    }
   ],
   "source": [
    "# Perform one-hot encoding on 'Region' and 'Category' columns\n",
    "data = pd.get_dummies(data, columns=['Region'], drop_first=True)\n",
    "data = pd.get_dummies(data, columns=['Category'], drop_first=True)"
   ]
  },
  {
   "cell_type": "code",
   "execution_count": 91,
   "id": "ef36ca57-a8a8-4c20-b8e8-86830e4a1389",
   "metadata": {},
   "outputs": [
    {
     "data": {
      "text/html": [
       "<div>\n",
       "<style scoped>\n",
       "    .dataframe tbody tr th:only-of-type {\n",
       "        vertical-align: middle;\n",
       "    }\n",
       "\n",
       "    .dataframe tbody tr th {\n",
       "        vertical-align: top;\n",
       "    }\n",
       "\n",
       "    .dataframe thead th {\n",
       "        text-align: right;\n",
       "    }\n",
       "</style>\n",
       "<table border=\"1\" class=\"dataframe\">\n",
       "  <thead>\n",
       "    <tr style=\"text-align: right;\">\n",
       "      <th></th>\n",
       "      <th>CustomerID</th>\n",
       "      <th>TransactionDate</th>\n",
       "      <th>Quantity</th>\n",
       "      <th>TotalValue</th>\n",
       "      <th>Price_x</th>\n",
       "      <th>CustomerName</th>\n",
       "      <th>SignupDate</th>\n",
       "      <th>ProductName</th>\n",
       "      <th>MonthsSinceSignup</th>\n",
       "      <th>Region_Europe</th>\n",
       "      <th>Region_North America</th>\n",
       "      <th>Region_South America</th>\n",
       "      <th>Category_Clothing</th>\n",
       "      <th>Category_Electronics</th>\n",
       "      <th>Category_Home Decor</th>\n",
       "    </tr>\n",
       "  </thead>\n",
       "  <tbody>\n",
       "    <tr>\n",
       "      <th>0</th>\n",
       "      <td>C0199</td>\n",
       "      <td>2024-08-25 12:38:23</td>\n",
       "      <td>0.000000</td>\n",
       "      <td>0.144104</td>\n",
       "      <td>0.590849</td>\n",
       "      <td>Andrea Jenkins</td>\n",
       "      <td>2022-12-03</td>\n",
       "      <td>ComfortLiving Bluetooth Speaker</td>\n",
       "      <td>25</td>\n",
       "      <td>True</td>\n",
       "      <td>False</td>\n",
       "      <td>False</td>\n",
       "      <td>False</td>\n",
       "      <td>True</td>\n",
       "      <td>False</td>\n",
       "    </tr>\n",
       "    <tr>\n",
       "      <th>1</th>\n",
       "      <td>C0146</td>\n",
       "      <td>2024-05-27 22:23:54</td>\n",
       "      <td>0.000000</td>\n",
       "      <td>0.144104</td>\n",
       "      <td>0.590849</td>\n",
       "      <td>Brittany Harvey</td>\n",
       "      <td>2024-09-04</td>\n",
       "      <td>ComfortLiving Bluetooth Speaker</td>\n",
       "      <td>4</td>\n",
       "      <td>False</td>\n",
       "      <td>False</td>\n",
       "      <td>False</td>\n",
       "      <td>False</td>\n",
       "      <td>True</td>\n",
       "      <td>False</td>\n",
       "    </tr>\n",
       "    <tr>\n",
       "      <th>2</th>\n",
       "      <td>C0127</td>\n",
       "      <td>2024-04-25 07:38:55</td>\n",
       "      <td>0.000000</td>\n",
       "      <td>0.144104</td>\n",
       "      <td>0.590849</td>\n",
       "      <td>Kathryn Stevens</td>\n",
       "      <td>2024-04-04</td>\n",
       "      <td>ComfortLiving Bluetooth Speaker</td>\n",
       "      <td>9</td>\n",
       "      <td>True</td>\n",
       "      <td>False</td>\n",
       "      <td>False</td>\n",
       "      <td>False</td>\n",
       "      <td>True</td>\n",
       "      <td>False</td>\n",
       "    </tr>\n",
       "    <tr>\n",
       "      <th>3</th>\n",
       "      <td>C0087</td>\n",
       "      <td>2024-03-26 22:55:37</td>\n",
       "      <td>0.333333</td>\n",
       "      <td>0.296350</td>\n",
       "      <td>0.590849</td>\n",
       "      <td>Travis Campbell</td>\n",
       "      <td>2024-04-11</td>\n",
       "      <td>ComfortLiving Bluetooth Speaker</td>\n",
       "      <td>9</td>\n",
       "      <td>False</td>\n",
       "      <td>False</td>\n",
       "      <td>True</td>\n",
       "      <td>False</td>\n",
       "      <td>True</td>\n",
       "      <td>False</td>\n",
       "    </tr>\n",
       "    <tr>\n",
       "      <th>4</th>\n",
       "      <td>C0070</td>\n",
       "      <td>2024-03-21 15:10:10</td>\n",
       "      <td>0.666667</td>\n",
       "      <td>0.448596</td>\n",
       "      <td>0.590849</td>\n",
       "      <td>Timothy Perez</td>\n",
       "      <td>2022-03-15</td>\n",
       "      <td>ComfortLiving Bluetooth Speaker</td>\n",
       "      <td>34</td>\n",
       "      <td>True</td>\n",
       "      <td>False</td>\n",
       "      <td>False</td>\n",
       "      <td>False</td>\n",
       "      <td>True</td>\n",
       "      <td>False</td>\n",
       "    </tr>\n",
       "  </tbody>\n",
       "</table>\n",
       "</div>"
      ],
      "text/plain": [
       "  CustomerID     TransactionDate  Quantity  TotalValue   Price_x  \\\n",
       "0      C0199 2024-08-25 12:38:23  0.000000    0.144104  0.590849   \n",
       "1      C0146 2024-05-27 22:23:54  0.000000    0.144104  0.590849   \n",
       "2      C0127 2024-04-25 07:38:55  0.000000    0.144104  0.590849   \n",
       "3      C0087 2024-03-26 22:55:37  0.333333    0.296350  0.590849   \n",
       "4      C0070 2024-03-21 15:10:10  0.666667    0.448596  0.590849   \n",
       "\n",
       "      CustomerName SignupDate                      ProductName  \\\n",
       "0   Andrea Jenkins 2022-12-03  ComfortLiving Bluetooth Speaker   \n",
       "1  Brittany Harvey 2024-09-04  ComfortLiving Bluetooth Speaker   \n",
       "2  Kathryn Stevens 2024-04-04  ComfortLiving Bluetooth Speaker   \n",
       "3  Travis Campbell 2024-04-11  ComfortLiving Bluetooth Speaker   \n",
       "4    Timothy Perez 2022-03-15  ComfortLiving Bluetooth Speaker   \n",
       "\n",
       "   MonthsSinceSignup  Region_Europe  Region_North America  \\\n",
       "0                 25           True                 False   \n",
       "1                  4          False                 False   \n",
       "2                  9           True                 False   \n",
       "3                  9          False                 False   \n",
       "4                 34           True                 False   \n",
       "\n",
       "   Region_South America  Category_Clothing  Category_Electronics  \\\n",
       "0                 False              False                  True   \n",
       "1                 False              False                  True   \n",
       "2                 False              False                  True   \n",
       "3                  True              False                  True   \n",
       "4                 False              False                  True   \n",
       "\n",
       "   Category_Home Decor  \n",
       "0                False  \n",
       "1                False  \n",
       "2                False  \n",
       "3                False  \n",
       "4                False  "
      ]
     },
     "execution_count": 91,
     "metadata": {},
     "output_type": "execute_result"
    }
   ],
   "source": [
    "data.head()"
   ]
  },
  {
   "cell_type": "raw",
   "id": "2c761460-23d7-46cc-95d3-a6482182447b",
   "metadata": {},
   "source": [
    "Interpretation:One-hot encoding was applied to the Region and Category columns to convert categorical data into a format suitable for machine learning models."
   ]
  },
  {
   "cell_type": "markdown",
   "id": "7ef1783e-d355-45cc-ba4c-4ba391a876f7",
   "metadata": {},
   "source": [
    "### 7.Scaling the Features\n"
   ]
  },
  {
   "cell_type": "code",
   "execution_count": 53,
   "id": "0af31417-c9cc-471b-b86b-e12acf9b26e3",
   "metadata": {},
   "outputs": [
    {
     "data": {
      "text/plain": [
       "CustomerID                      object\n",
       "TransactionDate         datetime64[ns]\n",
       "Quantity                         int64\n",
       "TotalValue                     float64\n",
       "Price_x                        float64\n",
       "CustomerName                    object\n",
       "SignupDate              datetime64[ns]\n",
       "ProductName                     object\n",
       "MonthsSinceSignup                int32\n",
       "Region_Europe                     bool\n",
       "Region_North America              bool\n",
       "Region_South America              bool\n",
       "Category_Clothing                 bool\n",
       "Category_Electronics              bool\n",
       "Category_Home Decor               bool\n",
       "dtype: object"
      ]
     },
     "execution_count": 53,
     "metadata": {},
     "output_type": "execute_result"
    }
   ],
   "source": [
    "data.dtypes"
   ]
  },
  {
   "cell_type": "code",
   "execution_count": 54,
   "id": "82969cf4-b46c-4c29-aedf-addf9c70ebc6",
   "metadata": {},
   "outputs": [],
   "source": [
    "from sklearn.preprocessing import MinMaxScaler\n",
    "\n",
    "# Select relevant numerical features for scaling\n",
    "numerical_features = data[['Quantity', 'TotalValue', 'Price_x']]\n",
    "\n",
    "# Initialize the MinMaxScaler\n",
    "scaler = MinMaxScaler()\n",
    "\n",
    "# Apply Min-Max scaling to the numerical features\n",
    "scaled_numerical_features = scaler.fit_transform(numerical_features)\n",
    "\n",
    "# Convert scaled features back to a DataFrame for easier handling\n",
    "scaled_numerical_df = pd.DataFrame(scaled_numerical_features, columns=numerical_features.columns)\n",
    "\n",
    "# Replace the original numerical features with the scaled ones in the dataset\n",
    "data[numerical_features.columns] = scaled_numerical_df\n",
    "\n"
   ]
  },
  {
   "cell_type": "code",
   "execution_count": 55,
   "id": "6d80571d-afcf-44e7-8281-2956aef53778",
   "metadata": {},
   "outputs": [
    {
     "data": {
      "text/html": [
       "<div>\n",
       "<style scoped>\n",
       "    .dataframe tbody tr th:only-of-type {\n",
       "        vertical-align: middle;\n",
       "    }\n",
       "\n",
       "    .dataframe tbody tr th {\n",
       "        vertical-align: top;\n",
       "    }\n",
       "\n",
       "    .dataframe thead th {\n",
       "        text-align: right;\n",
       "    }\n",
       "</style>\n",
       "<table border=\"1\" class=\"dataframe\">\n",
       "  <thead>\n",
       "    <tr style=\"text-align: right;\">\n",
       "      <th></th>\n",
       "      <th>CustomerID</th>\n",
       "      <th>TransactionDate</th>\n",
       "      <th>Quantity</th>\n",
       "      <th>TotalValue</th>\n",
       "      <th>Price_x</th>\n",
       "      <th>CustomerName</th>\n",
       "      <th>SignupDate</th>\n",
       "      <th>ProductName</th>\n",
       "      <th>MonthsSinceSignup</th>\n",
       "      <th>Region_Europe</th>\n",
       "      <th>Region_North America</th>\n",
       "      <th>Region_South America</th>\n",
       "      <th>Category_Clothing</th>\n",
       "      <th>Category_Electronics</th>\n",
       "      <th>Category_Home Decor</th>\n",
       "    </tr>\n",
       "  </thead>\n",
       "  <tbody>\n",
       "    <tr>\n",
       "      <th>0</th>\n",
       "      <td>C0199</td>\n",
       "      <td>2024-08-25 12:38:23</td>\n",
       "      <td>0.000000</td>\n",
       "      <td>0.144104</td>\n",
       "      <td>0.590849</td>\n",
       "      <td>Andrea Jenkins</td>\n",
       "      <td>2022-12-03</td>\n",
       "      <td>ComfortLiving Bluetooth Speaker</td>\n",
       "      <td>25</td>\n",
       "      <td>True</td>\n",
       "      <td>False</td>\n",
       "      <td>False</td>\n",
       "      <td>False</td>\n",
       "      <td>True</td>\n",
       "      <td>False</td>\n",
       "    </tr>\n",
       "    <tr>\n",
       "      <th>1</th>\n",
       "      <td>C0146</td>\n",
       "      <td>2024-05-27 22:23:54</td>\n",
       "      <td>0.000000</td>\n",
       "      <td>0.144104</td>\n",
       "      <td>0.590849</td>\n",
       "      <td>Brittany Harvey</td>\n",
       "      <td>2024-09-04</td>\n",
       "      <td>ComfortLiving Bluetooth Speaker</td>\n",
       "      <td>4</td>\n",
       "      <td>False</td>\n",
       "      <td>False</td>\n",
       "      <td>False</td>\n",
       "      <td>False</td>\n",
       "      <td>True</td>\n",
       "      <td>False</td>\n",
       "    </tr>\n",
       "    <tr>\n",
       "      <th>2</th>\n",
       "      <td>C0127</td>\n",
       "      <td>2024-04-25 07:38:55</td>\n",
       "      <td>0.000000</td>\n",
       "      <td>0.144104</td>\n",
       "      <td>0.590849</td>\n",
       "      <td>Kathryn Stevens</td>\n",
       "      <td>2024-04-04</td>\n",
       "      <td>ComfortLiving Bluetooth Speaker</td>\n",
       "      <td>9</td>\n",
       "      <td>True</td>\n",
       "      <td>False</td>\n",
       "      <td>False</td>\n",
       "      <td>False</td>\n",
       "      <td>True</td>\n",
       "      <td>False</td>\n",
       "    </tr>\n",
       "    <tr>\n",
       "      <th>3</th>\n",
       "      <td>C0087</td>\n",
       "      <td>2024-03-26 22:55:37</td>\n",
       "      <td>0.333333</td>\n",
       "      <td>0.296350</td>\n",
       "      <td>0.590849</td>\n",
       "      <td>Travis Campbell</td>\n",
       "      <td>2024-04-11</td>\n",
       "      <td>ComfortLiving Bluetooth Speaker</td>\n",
       "      <td>9</td>\n",
       "      <td>False</td>\n",
       "      <td>False</td>\n",
       "      <td>True</td>\n",
       "      <td>False</td>\n",
       "      <td>True</td>\n",
       "      <td>False</td>\n",
       "    </tr>\n",
       "    <tr>\n",
       "      <th>4</th>\n",
       "      <td>C0070</td>\n",
       "      <td>2024-03-21 15:10:10</td>\n",
       "      <td>0.666667</td>\n",
       "      <td>0.448596</td>\n",
       "      <td>0.590849</td>\n",
       "      <td>Timothy Perez</td>\n",
       "      <td>2022-03-15</td>\n",
       "      <td>ComfortLiving Bluetooth Speaker</td>\n",
       "      <td>34</td>\n",
       "      <td>True</td>\n",
       "      <td>False</td>\n",
       "      <td>False</td>\n",
       "      <td>False</td>\n",
       "      <td>True</td>\n",
       "      <td>False</td>\n",
       "    </tr>\n",
       "  </tbody>\n",
       "</table>\n",
       "</div>"
      ],
      "text/plain": [
       "  CustomerID     TransactionDate  Quantity  TotalValue   Price_x  \\\n",
       "0      C0199 2024-08-25 12:38:23  0.000000    0.144104  0.590849   \n",
       "1      C0146 2024-05-27 22:23:54  0.000000    0.144104  0.590849   \n",
       "2      C0127 2024-04-25 07:38:55  0.000000    0.144104  0.590849   \n",
       "3      C0087 2024-03-26 22:55:37  0.333333    0.296350  0.590849   \n",
       "4      C0070 2024-03-21 15:10:10  0.666667    0.448596  0.590849   \n",
       "\n",
       "      CustomerName SignupDate                      ProductName  \\\n",
       "0   Andrea Jenkins 2022-12-03  ComfortLiving Bluetooth Speaker   \n",
       "1  Brittany Harvey 2024-09-04  ComfortLiving Bluetooth Speaker   \n",
       "2  Kathryn Stevens 2024-04-04  ComfortLiving Bluetooth Speaker   \n",
       "3  Travis Campbell 2024-04-11  ComfortLiving Bluetooth Speaker   \n",
       "4    Timothy Perez 2022-03-15  ComfortLiving Bluetooth Speaker   \n",
       "\n",
       "   MonthsSinceSignup  Region_Europe  Region_North America  \\\n",
       "0                 25           True                 False   \n",
       "1                  4          False                 False   \n",
       "2                  9           True                 False   \n",
       "3                  9          False                 False   \n",
       "4                 34           True                 False   \n",
       "\n",
       "   Region_South America  Category_Clothing  Category_Electronics  \\\n",
       "0                 False              False                  True   \n",
       "1                 False              False                  True   \n",
       "2                 False              False                  True   \n",
       "3                  True              False                  True   \n",
       "4                 False              False                  True   \n",
       "\n",
       "   Category_Home Decor  \n",
       "0                False  \n",
       "1                False  \n",
       "2                False  \n",
       "3                False  \n",
       "4                False  "
      ]
     },
     "execution_count": 55,
     "metadata": {},
     "output_type": "execute_result"
    }
   ],
   "source": [
    "data.head()"
   ]
  },
  {
   "cell_type": "raw",
   "id": "c2da0769-c389-44b7-b75f-e7df248da0eb",
   "metadata": {},
   "source": [
    "Interpretation:\n",
    "Min-Max scaling was applied to numerical features (Quantity, TotalValue, and Price_x) to normalize the data, ensuring all features are within the range [0, 1] for improved model performance, particularly when using distance-based algorithms like clustering"
   ]
  },
  {
   "cell_type": "code",
   "execution_count": null,
   "id": "9358daa7-c976-492a-abae-a1d1340f8555",
   "metadata": {},
   "outputs": [],
   "source": []
  }
 ],
 "metadata": {
  "kernelspec": {
   "display_name": "Python 3 (ipykernel)",
   "language": "python",
   "name": "python3"
  },
  "language_info": {
   "codemirror_mode": {
    "name": "ipython",
    "version": 3
   },
   "file_extension": ".py",
   "mimetype": "text/x-python",
   "name": "python",
   "nbconvert_exporter": "python",
   "pygments_lexer": "ipython3",
   "version": "3.12.3"
  }
 },
 "nbformat": 4,
 "nbformat_minor": 5
}
