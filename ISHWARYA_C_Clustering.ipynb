{
 "cells": [
  {
   "cell_type": "code",
   "execution_count": 1,
   "id": "31765a73-9e25-4b95-9e09-e6f38afc6f93",
   "metadata": {},
   "outputs": [],
   "source": [
    "import pandas as pd\n",
    "import numpy as np\n",
    "from sklearn.cluster import KMeans\n",
    "from sklearn.metrics import davies_bouldin_score\n",
    "import matplotlib.pyplot as plt\n",
    "import seaborn as sns\n",
    "from sklearn.decomposition import PCA\n",
    "from sklearn.preprocessing import MinMaxScaler\n"
   ]
  },
  {
   "cell_type": "code",
   "execution_count": 2,
   "id": "1bce84a0-a845-4f39-8891-4e02a5659f6d",
   "metadata": {},
   "outputs": [],
   "source": [
    "#read CSV files\n",
    "customers_df = pd.read_csv(\"Customers.csv\")\n",
    "transactions_df = pd.read_csv(\"Transactions.csv\")\n",
    "# Merge customers with transactions to get the customer's transaction history\n",
    "data= transactions_df.merge(customers_df, on='CustomerID')\n"
   ]
  },
  {
   "cell_type": "code",
   "execution_count": 3,
   "id": "f5684157-6496-463f-b691-03dc45e7a508",
   "metadata": {},
   "outputs": [
    {
     "data": {
      "text/html": [
       "<div>\n",
       "<style scoped>\n",
       "    .dataframe tbody tr th:only-of-type {\n",
       "        vertical-align: middle;\n",
       "    }\n",
       "\n",
       "    .dataframe tbody tr th {\n",
       "        vertical-align: top;\n",
       "    }\n",
       "\n",
       "    .dataframe thead th {\n",
       "        text-align: right;\n",
       "    }\n",
       "</style>\n",
       "<table border=\"1\" class=\"dataframe\">\n",
       "  <thead>\n",
       "    <tr style=\"text-align: right;\">\n",
       "      <th></th>\n",
       "      <th>TransactionID</th>\n",
       "      <th>CustomerID</th>\n",
       "      <th>ProductID</th>\n",
       "      <th>TransactionDate</th>\n",
       "      <th>Quantity</th>\n",
       "      <th>TotalValue</th>\n",
       "      <th>Price</th>\n",
       "      <th>CustomerName</th>\n",
       "      <th>Region</th>\n",
       "      <th>SignupDate</th>\n",
       "    </tr>\n",
       "  </thead>\n",
       "  <tbody>\n",
       "    <tr>\n",
       "      <th>0</th>\n",
       "      <td>T00001</td>\n",
       "      <td>C0199</td>\n",
       "      <td>P067</td>\n",
       "      <td>2024-08-25 12:38:23</td>\n",
       "      <td>1</td>\n",
       "      <td>300.68</td>\n",
       "      <td>300.68</td>\n",
       "      <td>Andrea Jenkins</td>\n",
       "      <td>Europe</td>\n",
       "      <td>2022-12-03</td>\n",
       "    </tr>\n",
       "    <tr>\n",
       "      <th>1</th>\n",
       "      <td>T00112</td>\n",
       "      <td>C0146</td>\n",
       "      <td>P067</td>\n",
       "      <td>2024-05-27 22:23:54</td>\n",
       "      <td>1</td>\n",
       "      <td>300.68</td>\n",
       "      <td>300.68</td>\n",
       "      <td>Brittany Harvey</td>\n",
       "      <td>Asia</td>\n",
       "      <td>2024-09-04</td>\n",
       "    </tr>\n",
       "    <tr>\n",
       "      <th>2</th>\n",
       "      <td>T00166</td>\n",
       "      <td>C0127</td>\n",
       "      <td>P067</td>\n",
       "      <td>2024-04-25 07:38:55</td>\n",
       "      <td>1</td>\n",
       "      <td>300.68</td>\n",
       "      <td>300.68</td>\n",
       "      <td>Kathryn Stevens</td>\n",
       "      <td>Europe</td>\n",
       "      <td>2024-04-04</td>\n",
       "    </tr>\n",
       "    <tr>\n",
       "      <th>3</th>\n",
       "      <td>T00272</td>\n",
       "      <td>C0087</td>\n",
       "      <td>P067</td>\n",
       "      <td>2024-03-26 22:55:37</td>\n",
       "      <td>2</td>\n",
       "      <td>601.36</td>\n",
       "      <td>300.68</td>\n",
       "      <td>Travis Campbell</td>\n",
       "      <td>South America</td>\n",
       "      <td>2024-04-11</td>\n",
       "    </tr>\n",
       "    <tr>\n",
       "      <th>4</th>\n",
       "      <td>T00363</td>\n",
       "      <td>C0070</td>\n",
       "      <td>P067</td>\n",
       "      <td>2024-03-21 15:10:10</td>\n",
       "      <td>3</td>\n",
       "      <td>902.04</td>\n",
       "      <td>300.68</td>\n",
       "      <td>Timothy Perez</td>\n",
       "      <td>Europe</td>\n",
       "      <td>2022-03-15</td>\n",
       "    </tr>\n",
       "  </tbody>\n",
       "</table>\n",
       "</div>"
      ],
      "text/plain": [
       "  TransactionID CustomerID ProductID      TransactionDate  Quantity  \\\n",
       "0        T00001      C0199      P067  2024-08-25 12:38:23         1   \n",
       "1        T00112      C0146      P067  2024-05-27 22:23:54         1   \n",
       "2        T00166      C0127      P067  2024-04-25 07:38:55         1   \n",
       "3        T00272      C0087      P067  2024-03-26 22:55:37         2   \n",
       "4        T00363      C0070      P067  2024-03-21 15:10:10         3   \n",
       "\n",
       "   TotalValue   Price     CustomerName         Region  SignupDate  \n",
       "0      300.68  300.68   Andrea Jenkins         Europe  2022-12-03  \n",
       "1      300.68  300.68  Brittany Harvey           Asia  2024-09-04  \n",
       "2      300.68  300.68  Kathryn Stevens         Europe  2024-04-04  \n",
       "3      601.36  300.68  Travis Campbell  South America  2024-04-11  \n",
       "4      902.04  300.68    Timothy Perez         Europe  2022-03-15  "
      ]
     },
     "execution_count": 3,
     "metadata": {},
     "output_type": "execute_result"
    }
   ],
   "source": [
    "data.head()"
   ]
  },
  {
   "cell_type": "code",
   "execution_count": 4,
   "id": "00a26b37-ac32-4552-bf74-3152cfdb5e6a",
   "metadata": {},
   "outputs": [
    {
     "data": {
      "text/plain": [
       "TransactionID       object\n",
       "CustomerID          object\n",
       "ProductID           object\n",
       "TransactionDate     object\n",
       "Quantity             int64\n",
       "TotalValue         float64\n",
       "Price              float64\n",
       "CustomerName        object\n",
       "Region              object\n",
       "SignupDate          object\n",
       "dtype: object"
      ]
     },
     "execution_count": 4,
     "metadata": {},
     "output_type": "execute_result"
    }
   ],
   "source": [
    "data.dtypes"
   ]
  },
  {
   "cell_type": "markdown",
   "id": "3949ecd6-4219-47f5-8f47-0a9ee8c5f083",
   "metadata": {},
   "source": [
    "## one hot encoding"
   ]
  },
  {
   "cell_type": "code",
   "execution_count": 6,
   "id": "3fbedc1d-65d6-4925-9c09-4a2bdc093384",
   "metadata": {},
   "outputs": [],
   "source": [
    "# Perform one-hot encoding on 'Region' and 'Category' columns\n",
    "data = pd.get_dummies(data, columns=['Region'], drop_first=True)\n"
   ]
  },
  {
   "cell_type": "code",
   "execution_count": 7,
   "id": "a1221f15-6203-44f3-aade-cf65c523cff6",
   "metadata": {},
   "outputs": [],
   "source": [
    "# Convert boolean columns to integers\n",
    "region_cols = [\"Region_Europe\", \"Region_North America\", \"Region_South America\"]\n",
    "data[region_cols] = data[region_cols].astype(int)\n"
   ]
  },
  {
   "cell_type": "code",
   "execution_count": 8,
   "id": "33c899d8-d0e4-467b-87f4-69596ccb0420",
   "metadata": {},
   "outputs": [
    {
     "data": {
      "text/html": [
       "<div>\n",
       "<style scoped>\n",
       "    .dataframe tbody tr th:only-of-type {\n",
       "        vertical-align: middle;\n",
       "    }\n",
       "\n",
       "    .dataframe tbody tr th {\n",
       "        vertical-align: top;\n",
       "    }\n",
       "\n",
       "    .dataframe thead th {\n",
       "        text-align: right;\n",
       "    }\n",
       "</style>\n",
       "<table border=\"1\" class=\"dataframe\">\n",
       "  <thead>\n",
       "    <tr style=\"text-align: right;\">\n",
       "      <th></th>\n",
       "      <th>TransactionID</th>\n",
       "      <th>CustomerID</th>\n",
       "      <th>ProductID</th>\n",
       "      <th>TransactionDate</th>\n",
       "      <th>Quantity</th>\n",
       "      <th>TotalValue</th>\n",
       "      <th>Price</th>\n",
       "      <th>CustomerName</th>\n",
       "      <th>SignupDate</th>\n",
       "      <th>Region_Europe</th>\n",
       "      <th>Region_North America</th>\n",
       "      <th>Region_South America</th>\n",
       "    </tr>\n",
       "  </thead>\n",
       "  <tbody>\n",
       "    <tr>\n",
       "      <th>0</th>\n",
       "      <td>T00001</td>\n",
       "      <td>C0199</td>\n",
       "      <td>P067</td>\n",
       "      <td>2024-08-25 12:38:23</td>\n",
       "      <td>1</td>\n",
       "      <td>300.68</td>\n",
       "      <td>300.68</td>\n",
       "      <td>Andrea Jenkins</td>\n",
       "      <td>2022-12-03</td>\n",
       "      <td>1</td>\n",
       "      <td>0</td>\n",
       "      <td>0</td>\n",
       "    </tr>\n",
       "    <tr>\n",
       "      <th>1</th>\n",
       "      <td>T00112</td>\n",
       "      <td>C0146</td>\n",
       "      <td>P067</td>\n",
       "      <td>2024-05-27 22:23:54</td>\n",
       "      <td>1</td>\n",
       "      <td>300.68</td>\n",
       "      <td>300.68</td>\n",
       "      <td>Brittany Harvey</td>\n",
       "      <td>2024-09-04</td>\n",
       "      <td>0</td>\n",
       "      <td>0</td>\n",
       "      <td>0</td>\n",
       "    </tr>\n",
       "    <tr>\n",
       "      <th>2</th>\n",
       "      <td>T00166</td>\n",
       "      <td>C0127</td>\n",
       "      <td>P067</td>\n",
       "      <td>2024-04-25 07:38:55</td>\n",
       "      <td>1</td>\n",
       "      <td>300.68</td>\n",
       "      <td>300.68</td>\n",
       "      <td>Kathryn Stevens</td>\n",
       "      <td>2024-04-04</td>\n",
       "      <td>1</td>\n",
       "      <td>0</td>\n",
       "      <td>0</td>\n",
       "    </tr>\n",
       "    <tr>\n",
       "      <th>3</th>\n",
       "      <td>T00272</td>\n",
       "      <td>C0087</td>\n",
       "      <td>P067</td>\n",
       "      <td>2024-03-26 22:55:37</td>\n",
       "      <td>2</td>\n",
       "      <td>601.36</td>\n",
       "      <td>300.68</td>\n",
       "      <td>Travis Campbell</td>\n",
       "      <td>2024-04-11</td>\n",
       "      <td>0</td>\n",
       "      <td>0</td>\n",
       "      <td>1</td>\n",
       "    </tr>\n",
       "    <tr>\n",
       "      <th>4</th>\n",
       "      <td>T00363</td>\n",
       "      <td>C0070</td>\n",
       "      <td>P067</td>\n",
       "      <td>2024-03-21 15:10:10</td>\n",
       "      <td>3</td>\n",
       "      <td>902.04</td>\n",
       "      <td>300.68</td>\n",
       "      <td>Timothy Perez</td>\n",
       "      <td>2022-03-15</td>\n",
       "      <td>1</td>\n",
       "      <td>0</td>\n",
       "      <td>0</td>\n",
       "    </tr>\n",
       "  </tbody>\n",
       "</table>\n",
       "</div>"
      ],
      "text/plain": [
       "  TransactionID CustomerID ProductID      TransactionDate  Quantity  \\\n",
       "0        T00001      C0199      P067  2024-08-25 12:38:23         1   \n",
       "1        T00112      C0146      P067  2024-05-27 22:23:54         1   \n",
       "2        T00166      C0127      P067  2024-04-25 07:38:55         1   \n",
       "3        T00272      C0087      P067  2024-03-26 22:55:37         2   \n",
       "4        T00363      C0070      P067  2024-03-21 15:10:10         3   \n",
       "\n",
       "   TotalValue   Price     CustomerName  SignupDate  Region_Europe  \\\n",
       "0      300.68  300.68   Andrea Jenkins  2022-12-03              1   \n",
       "1      300.68  300.68  Brittany Harvey  2024-09-04              0   \n",
       "2      300.68  300.68  Kathryn Stevens  2024-04-04              1   \n",
       "3      601.36  300.68  Travis Campbell  2024-04-11              0   \n",
       "4      902.04  300.68    Timothy Perez  2022-03-15              1   \n",
       "\n",
       "   Region_North America  Region_South America  \n",
       "0                     0                     0  \n",
       "1                     0                     0  \n",
       "2                     0                     0  \n",
       "3                     0                     1  \n",
       "4                     0                     0  "
      ]
     },
     "execution_count": 8,
     "metadata": {},
     "output_type": "execute_result"
    }
   ],
   "source": [
    "data.head()"
   ]
  },
  {
   "cell_type": "markdown",
   "id": "df3dc24b-ce8e-4666-9ba0-b46699be563f",
   "metadata": {},
   "source": [
    "## feature engineering\n"
   ]
  },
  {
   "cell_type": "code",
   "execution_count": 10,
   "id": "3eb7397e-a0cc-413a-a060-f0fbe5ab5aa4",
   "metadata": {},
   "outputs": [
    {
     "data": {
      "text/html": [
       "<div>\n",
       "<style scoped>\n",
       "    .dataframe tbody tr th:only-of-type {\n",
       "        vertical-align: middle;\n",
       "    }\n",
       "\n",
       "    .dataframe tbody tr th {\n",
       "        vertical-align: top;\n",
       "    }\n",
       "\n",
       "    .dataframe thead th {\n",
       "        text-align: right;\n",
       "    }\n",
       "</style>\n",
       "<table border=\"1\" class=\"dataframe\">\n",
       "  <thead>\n",
       "    <tr style=\"text-align: right;\">\n",
       "      <th></th>\n",
       "      <th>TransactionID</th>\n",
       "      <th>CustomerID</th>\n",
       "      <th>ProductID</th>\n",
       "      <th>TransactionDate</th>\n",
       "      <th>Quantity</th>\n",
       "      <th>TotalValue</th>\n",
       "      <th>Price</th>\n",
       "      <th>CustomerName</th>\n",
       "      <th>SignupDate</th>\n",
       "      <th>Region_Europe</th>\n",
       "      <th>Region_North America</th>\n",
       "      <th>Region_South America</th>\n",
       "      <th>MonthsSinceSignup</th>\n",
       "    </tr>\n",
       "  </thead>\n",
       "  <tbody>\n",
       "    <tr>\n",
       "      <th>0</th>\n",
       "      <td>T00001</td>\n",
       "      <td>C0199</td>\n",
       "      <td>P067</td>\n",
       "      <td>2024-08-25 12:38:23</td>\n",
       "      <td>1</td>\n",
       "      <td>300.68</td>\n",
       "      <td>300.68</td>\n",
       "      <td>Andrea Jenkins</td>\n",
       "      <td>2022-12-03</td>\n",
       "      <td>1</td>\n",
       "      <td>0</td>\n",
       "      <td>0</td>\n",
       "      <td>25</td>\n",
       "    </tr>\n",
       "    <tr>\n",
       "      <th>1</th>\n",
       "      <td>T00112</td>\n",
       "      <td>C0146</td>\n",
       "      <td>P067</td>\n",
       "      <td>2024-05-27 22:23:54</td>\n",
       "      <td>1</td>\n",
       "      <td>300.68</td>\n",
       "      <td>300.68</td>\n",
       "      <td>Brittany Harvey</td>\n",
       "      <td>2024-09-04</td>\n",
       "      <td>0</td>\n",
       "      <td>0</td>\n",
       "      <td>0</td>\n",
       "      <td>4</td>\n",
       "    </tr>\n",
       "    <tr>\n",
       "      <th>2</th>\n",
       "      <td>T00166</td>\n",
       "      <td>C0127</td>\n",
       "      <td>P067</td>\n",
       "      <td>2024-04-25 07:38:55</td>\n",
       "      <td>1</td>\n",
       "      <td>300.68</td>\n",
       "      <td>300.68</td>\n",
       "      <td>Kathryn Stevens</td>\n",
       "      <td>2024-04-04</td>\n",
       "      <td>1</td>\n",
       "      <td>0</td>\n",
       "      <td>0</td>\n",
       "      <td>9</td>\n",
       "    </tr>\n",
       "    <tr>\n",
       "      <th>3</th>\n",
       "      <td>T00272</td>\n",
       "      <td>C0087</td>\n",
       "      <td>P067</td>\n",
       "      <td>2024-03-26 22:55:37</td>\n",
       "      <td>2</td>\n",
       "      <td>601.36</td>\n",
       "      <td>300.68</td>\n",
       "      <td>Travis Campbell</td>\n",
       "      <td>2024-04-11</td>\n",
       "      <td>0</td>\n",
       "      <td>0</td>\n",
       "      <td>1</td>\n",
       "      <td>9</td>\n",
       "    </tr>\n",
       "    <tr>\n",
       "      <th>4</th>\n",
       "      <td>T00363</td>\n",
       "      <td>C0070</td>\n",
       "      <td>P067</td>\n",
       "      <td>2024-03-21 15:10:10</td>\n",
       "      <td>3</td>\n",
       "      <td>902.04</td>\n",
       "      <td>300.68</td>\n",
       "      <td>Timothy Perez</td>\n",
       "      <td>2022-03-15</td>\n",
       "      <td>1</td>\n",
       "      <td>0</td>\n",
       "      <td>0</td>\n",
       "      <td>34</td>\n",
       "    </tr>\n",
       "  </tbody>\n",
       "</table>\n",
       "</div>"
      ],
      "text/plain": [
       "  TransactionID CustomerID ProductID      TransactionDate  Quantity  \\\n",
       "0        T00001      C0199      P067  2024-08-25 12:38:23         1   \n",
       "1        T00112      C0146      P067  2024-05-27 22:23:54         1   \n",
       "2        T00166      C0127      P067  2024-04-25 07:38:55         1   \n",
       "3        T00272      C0087      P067  2024-03-26 22:55:37         2   \n",
       "4        T00363      C0070      P067  2024-03-21 15:10:10         3   \n",
       "\n",
       "   TotalValue   Price     CustomerName SignupDate  Region_Europe  \\\n",
       "0      300.68  300.68   Andrea Jenkins 2022-12-03              1   \n",
       "1      300.68  300.68  Brittany Harvey 2024-09-04              0   \n",
       "2      300.68  300.68  Kathryn Stevens 2024-04-04              1   \n",
       "3      601.36  300.68  Travis Campbell 2024-04-11              0   \n",
       "4      902.04  300.68    Timothy Perez 2022-03-15              1   \n",
       "\n",
       "   Region_North America  Region_South America  MonthsSinceSignup  \n",
       "0                     0                     0                 25  \n",
       "1                     0                     0                  4  \n",
       "2                     0                     0                  9  \n",
       "3                     0                     1                  9  \n",
       "4                     0                     0                 34  "
      ]
     },
     "execution_count": 10,
     "metadata": {},
     "output_type": "execute_result"
    }
   ],
   "source": [
    "# feature engineering\n",
    "\n",
    "data['SignupDate'] = pd.to_datetime(data['SignupDate'], errors='coerce')\n",
    "today = pd.to_datetime('today')\n",
    "\n",
    "# Calculate the difference in months\n",
    "data['MonthsSinceSignup'] = (today.year - data['SignupDate'].dt.year) * 12 + today.month - data['SignupDate'].dt.month\n",
    "\n",
    "# Display the result\n",
    "data.head()\n",
    "\n"
   ]
  },
  {
   "cell_type": "code",
   "execution_count": 11,
   "id": "2d0be2d7-ca3b-434e-9baa-70dc7b8a6c59",
   "metadata": {},
   "outputs": [
    {
     "name": "stdout",
     "output_type": "stream",
     "text": [
      "  TransactionID CustomerID ProductID     TransactionDate  Quantity  \\\n",
      "0        T00001      C0199      P067 2024-08-25 12:38:23         1   \n",
      "1        T00112      C0146      P067 2024-05-27 22:23:54         1   \n",
      "2        T00166      C0127      P067 2024-04-25 07:38:55         1   \n",
      "3        T00272      C0087      P067 2024-03-26 22:55:37         2   \n",
      "4        T00363      C0070      P067 2024-03-21 15:10:10         3   \n",
      "\n",
      "   TotalValue   Price     CustomerName SignupDate  Region_Europe  \\\n",
      "0      300.68  300.68   Andrea Jenkins 2022-12-03              1   \n",
      "1      300.68  300.68  Brittany Harvey 2024-09-04              0   \n",
      "2      300.68  300.68  Kathryn Stevens 2024-04-04              1   \n",
      "3      601.36  300.68  Travis Campbell 2024-04-11              0   \n",
      "4      902.04  300.68    Timothy Perez 2022-03-15              1   \n",
      "\n",
      "   Region_North America  Region_South America  MonthsSinceSignup  \\\n",
      "0                     0                     0                 25   \n",
      "1                     0                     0                  4   \n",
      "2                     0                     0                  9   \n",
      "3                     0                     1                  9   \n",
      "4                     0                     0                 34   \n",
      "\n",
      "   days_since_last_transaction  transaction_count  \n",
      "0                          155                  4  \n",
      "1                          244                  4  \n",
      "2                          277                  6  \n",
      "3                          306                  7  \n",
      "4                          312                  4  \n"
     ]
    }
   ],
   "source": [
    "\n",
    "# Ensure TransactionDate is in datetime format\n",
    "data[\"TransactionDate\"] = pd.to_datetime(data[\"TransactionDate\"])\n",
    "\n",
    "# 1. Calculate 'days_since_last_transaction'\n",
    "data[\"days_since_last_transaction\"] = (pd.Timestamp(\"today\") - data[\"TransactionDate\"]).dt.days\n",
    "\n",
    "# 2. Calculate 'transaction_count' for each customer\n",
    "transaction_count = data.groupby(\"CustomerID\")[\"TransactionID\"].count().reset_index(name=\"transaction_count\")\n",
    "\n",
    "# Merge the transaction count back into the original DataFrame\n",
    "data = pd.merge(data, transaction_count, on=\"CustomerID\", how=\"left\")\n",
    "\n",
    "# Display the updated DataFrame\n",
    "print(data.head())"
   ]
  },
  {
   "cell_type": "raw",
   "id": "2bfa6ecd-06e4-478d-bf4c-3823ec6e62fd",
   "metadata": {},
   "source": [
    "Interpretation:\n",
    "I performed these operations to create meaningful features that capture customer behavior and engagement. Calculating the months since signup helps measure how long a customer has been with the service, while the days since the last transaction provides insight into customer activity and engagement frequency. Counting transactions per customer gives a sense of customer loyalty and activity level. These features are useful for improving customer segmentation and predictive modeling."
   ]
  },
  {
   "cell_type": "code",
   "execution_count": 12,
   "id": "988e13f4-0603-4cbd-903b-42dcdde60ee8",
   "metadata": {},
   "outputs": [],
   "source": [
    "#drop unique identifier\n",
    "data = data.drop(['TransactionID','ProductID','CustomerID',], axis=1)\n"
   ]
  },
  {
   "cell_type": "raw",
   "id": "a03b6d21-3e41-4a4f-b16f-607e8eb67c9d",
   "metadata": {},
   "source": [
    "Interpretation:\n",
    "The code drops the columns TransactionID, ProductID, and CustomerID from the dataset. These columns are unique identifiers that don't provide direct value for analysis or modeling. Removing them helps reduce data complexity and avoids overfitting by eliminating unnecessary features that don't contribute to the prediction or insights."
   ]
  },
  {
   "cell_type": "markdown",
   "id": "606ceb5d-9f7d-46f5-b085-801617771b01",
   "metadata": {},
   "source": [
    "## Feature Scaling"
   ]
  },
  {
   "cell_type": "code",
   "execution_count": 21,
   "id": "83f89f63-a115-4090-ba06-79519d9f0aa9",
   "metadata": {},
   "outputs": [],
   "source": [
    "\n",
    "\n",
    "# Select relevant numerical features for scaling\n",
    "numerical_features = data[['Quantity', 'TotalValue', 'Price','MonthsSinceSignup','days_since_last_transaction','transaction_count']]\n",
    "\n",
    "# Initialize the MinMaxScaler\n",
    "scaler = MinMaxScaler()\n",
    "\n",
    "# Apply Min-Max scaling to the numerical features\n",
    "scaled_numerical_features = scaler.fit_transform(numerical_features)\n",
    "\n",
    "# Convert scaled features back to a DataFrame for easier handling\n",
    "scaled_numerical_df = pd.DataFrame(scaled_numerical_features, columns=numerical_features.columns)\n",
    "\n",
    "\n"
   ]
  },
  {
   "cell_type": "code",
   "execution_count": 23,
   "id": "d54ae951-c8cc-4b33-96ff-e1cd18e54800",
   "metadata": {},
   "outputs": [
    {
     "data": {
      "text/html": [
       "<div>\n",
       "<style scoped>\n",
       "    .dataframe tbody tr th:only-of-type {\n",
       "        vertical-align: middle;\n",
       "    }\n",
       "\n",
       "    .dataframe tbody tr th {\n",
       "        vertical-align: top;\n",
       "    }\n",
       "\n",
       "    .dataframe thead th {\n",
       "        text-align: right;\n",
       "    }\n",
       "</style>\n",
       "<table border=\"1\" class=\"dataframe\">\n",
       "  <thead>\n",
       "    <tr style=\"text-align: right;\">\n",
       "      <th></th>\n",
       "      <th>TransactionDate</th>\n",
       "      <th>Quantity</th>\n",
       "      <th>TotalValue</th>\n",
       "      <th>Price</th>\n",
       "      <th>CustomerName</th>\n",
       "      <th>SignupDate</th>\n",
       "      <th>Region_Europe</th>\n",
       "      <th>Region_North America</th>\n",
       "      <th>Region_South America</th>\n",
       "      <th>MonthsSinceSignup</th>\n",
       "      <th>days_since_last_transaction</th>\n",
       "      <th>transaction_count</th>\n",
       "    </tr>\n",
       "  </thead>\n",
       "  <tbody>\n",
       "    <tr>\n",
       "      <th>0</th>\n",
       "      <td>2024-08-25 12:38:23</td>\n",
       "      <td>0.000000</td>\n",
       "      <td>0.144104</td>\n",
       "      <td>0.590849</td>\n",
       "      <td>Andrea Jenkins</td>\n",
       "      <td>2022-12-03</td>\n",
       "      <td>1</td>\n",
       "      <td>0</td>\n",
       "      <td>0</td>\n",
       "      <td>0.685714</td>\n",
       "      <td>0.343407</td>\n",
       "      <td>0.3</td>\n",
       "    </tr>\n",
       "    <tr>\n",
       "      <th>1</th>\n",
       "      <td>2024-05-27 22:23:54</td>\n",
       "      <td>0.000000</td>\n",
       "      <td>0.144104</td>\n",
       "      <td>0.590849</td>\n",
       "      <td>Brittany Harvey</td>\n",
       "      <td>2024-09-04</td>\n",
       "      <td>0</td>\n",
       "      <td>0</td>\n",
       "      <td>0</td>\n",
       "      <td>0.085714</td>\n",
       "      <td>0.587912</td>\n",
       "      <td>0.3</td>\n",
       "    </tr>\n",
       "    <tr>\n",
       "      <th>2</th>\n",
       "      <td>2024-04-25 07:38:55</td>\n",
       "      <td>0.000000</td>\n",
       "      <td>0.144104</td>\n",
       "      <td>0.590849</td>\n",
       "      <td>Kathryn Stevens</td>\n",
       "      <td>2024-04-04</td>\n",
       "      <td>1</td>\n",
       "      <td>0</td>\n",
       "      <td>0</td>\n",
       "      <td>0.228571</td>\n",
       "      <td>0.678571</td>\n",
       "      <td>0.5</td>\n",
       "    </tr>\n",
       "    <tr>\n",
       "      <th>3</th>\n",
       "      <td>2024-03-26 22:55:37</td>\n",
       "      <td>0.333333</td>\n",
       "      <td>0.296350</td>\n",
       "      <td>0.590849</td>\n",
       "      <td>Travis Campbell</td>\n",
       "      <td>2024-04-11</td>\n",
       "      <td>0</td>\n",
       "      <td>0</td>\n",
       "      <td>1</td>\n",
       "      <td>0.228571</td>\n",
       "      <td>0.758242</td>\n",
       "      <td>0.6</td>\n",
       "    </tr>\n",
       "    <tr>\n",
       "      <th>4</th>\n",
       "      <td>2024-03-21 15:10:10</td>\n",
       "      <td>0.666667</td>\n",
       "      <td>0.448596</td>\n",
       "      <td>0.590849</td>\n",
       "      <td>Timothy Perez</td>\n",
       "      <td>2022-03-15</td>\n",
       "      <td>1</td>\n",
       "      <td>0</td>\n",
       "      <td>0</td>\n",
       "      <td>0.942857</td>\n",
       "      <td>0.774725</td>\n",
       "      <td>0.3</td>\n",
       "    </tr>\n",
       "  </tbody>\n",
       "</table>\n",
       "</div>"
      ],
      "text/plain": [
       "      TransactionDate  Quantity  TotalValue     Price     CustomerName  \\\n",
       "0 2024-08-25 12:38:23  0.000000    0.144104  0.590849   Andrea Jenkins   \n",
       "1 2024-05-27 22:23:54  0.000000    0.144104  0.590849  Brittany Harvey   \n",
       "2 2024-04-25 07:38:55  0.000000    0.144104  0.590849  Kathryn Stevens   \n",
       "3 2024-03-26 22:55:37  0.333333    0.296350  0.590849  Travis Campbell   \n",
       "4 2024-03-21 15:10:10  0.666667    0.448596  0.590849    Timothy Perez   \n",
       "\n",
       "  SignupDate  Region_Europe  Region_North America  Region_South America  \\\n",
       "0 2022-12-03              1                     0                     0   \n",
       "1 2024-09-04              0                     0                     0   \n",
       "2 2024-04-04              1                     0                     0   \n",
       "3 2024-04-11              0                     0                     1   \n",
       "4 2022-03-15              1                     0                     0   \n",
       "\n",
       "   MonthsSinceSignup  days_since_last_transaction  transaction_count  \n",
       "0           0.685714                     0.343407                0.3  \n",
       "1           0.085714                     0.587912                0.3  \n",
       "2           0.228571                     0.678571                0.5  \n",
       "3           0.228571                     0.758242                0.6  \n",
       "4           0.942857                     0.774725                0.3  "
      ]
     },
     "execution_count": 23,
     "metadata": {},
     "output_type": "execute_result"
    }
   ],
   "source": [
    "data.head()"
   ]
  },
  {
   "cell_type": "raw",
   "id": "e64f2482-d43d-4d8c-ad96-b6b5e10dda9d",
   "metadata": {},
   "source": [
    "Interpretation:The code selects relevant numerical features (Quantity, TotalValue, Price, etc.) for scaling. It then applies Min-Max scaling to normalize these features, bringing them into a range between 0 and 1. The scaled features are converted back to a DataFrame for easier analysis and use in modeling."
   ]
  },
  {
   "cell_type": "markdown",
   "id": "77d8dc5a-d00f-43a3-aacb-bd064a7ab96a",
   "metadata": {},
   "source": [
    "## Selecting features for clustering\n"
   ]
  },
  {
   "cell_type": "code",
   "execution_count": 27,
   "id": "cea34e27-7e28-4d47-a03c-aa7355a66a81",
   "metadata": {},
   "outputs": [],
   "source": [
    "features = data[['Quantity', 'TotalValue','MonthsSinceSignup','days_since_last_transaction', 'transaction_count'] + [col for col in data.columns if 'Region_' in col]]"
   ]
  },
  {
   "cell_type": "markdown",
   "id": "08621f1e-b590-4524-8c27-eabb67934448",
   "metadata": {},
   "source": [
    "## Perform Clustering with KMeans"
   ]
  },
  {
   "cell_type": "markdown",
   "id": "05227282-9d4d-4f72-a471-0354c5918a6b",
   "metadata": {},
   "source": [
    "### Elbow Method for optimal clusters\n"
   ]
  },
  {
   "cell_type": "code",
   "execution_count": 163,
   "id": "8149ce38-f654-41ca-bdf1-0a832e018b25",
   "metadata": {},
   "outputs": [
    {
     "name": "stderr",
     "output_type": "stream",
     "text": [
      "C:\\Users\\Hp\\anaconda3\\Lib\\site-packages\\sklearn\\cluster\\_kmeans.py:1446: UserWarning: KMeans is known to have a memory leak on Windows with MKL, when there are less chunks than available threads. You can avoid it by setting the environment variable OMP_NUM_THREADS=4.\n",
      "  warnings.warn(\n",
      "C:\\Users\\Hp\\anaconda3\\Lib\\site-packages\\sklearn\\cluster\\_kmeans.py:1446: UserWarning: KMeans is known to have a memory leak on Windows with MKL, when there are less chunks than available threads. You can avoid it by setting the environment variable OMP_NUM_THREADS=4.\n",
      "  warnings.warn(\n",
      "C:\\Users\\Hp\\anaconda3\\Lib\\site-packages\\sklearn\\cluster\\_kmeans.py:1446: UserWarning: KMeans is known to have a memory leak on Windows with MKL, when there are less chunks than available threads. You can avoid it by setting the environment variable OMP_NUM_THREADS=4.\n",
      "  warnings.warn(\n",
      "C:\\Users\\Hp\\anaconda3\\Lib\\site-packages\\sklearn\\cluster\\_kmeans.py:1446: UserWarning: KMeans is known to have a memory leak on Windows with MKL, when there are less chunks than available threads. You can avoid it by setting the environment variable OMP_NUM_THREADS=4.\n",
      "  warnings.warn(\n",
      "C:\\Users\\Hp\\anaconda3\\Lib\\site-packages\\sklearn\\cluster\\_kmeans.py:1446: UserWarning: KMeans is known to have a memory leak on Windows with MKL, when there are less chunks than available threads. You can avoid it by setting the environment variable OMP_NUM_THREADS=4.\n",
      "  warnings.warn(\n",
      "C:\\Users\\Hp\\anaconda3\\Lib\\site-packages\\sklearn\\cluster\\_kmeans.py:1446: UserWarning: KMeans is known to have a memory leak on Windows with MKL, when there are less chunks than available threads. You can avoid it by setting the environment variable OMP_NUM_THREADS=4.\n",
      "  warnings.warn(\n",
      "C:\\Users\\Hp\\anaconda3\\Lib\\site-packages\\sklearn\\cluster\\_kmeans.py:1446: UserWarning: KMeans is known to have a memory leak on Windows with MKL, when there are less chunks than available threads. You can avoid it by setting the environment variable OMP_NUM_THREADS=4.\n",
      "  warnings.warn(\n",
      "C:\\Users\\Hp\\anaconda3\\Lib\\site-packages\\sklearn\\cluster\\_kmeans.py:1446: UserWarning: KMeans is known to have a memory leak on Windows with MKL, when there are less chunks than available threads. You can avoid it by setting the environment variable OMP_NUM_THREADS=4.\n",
      "  warnings.warn(\n",
      "C:\\Users\\Hp\\anaconda3\\Lib\\site-packages\\sklearn\\cluster\\_kmeans.py:1446: UserWarning: KMeans is known to have a memory leak on Windows with MKL, when there are less chunks than available threads. You can avoid it by setting the environment variable OMP_NUM_THREADS=4.\n",
      "  warnings.warn(\n"
     ]
    },
    {
     "data": {
      "image/png": "[encoded data removed]",
      "text/plain": [
       "<Figure size 640x480 with 1 Axes>"
      ]
     },
     "metadata": {},
     "output_type": "display_data"
    }
   ],
   "source": [
    "wcss = []\n",
    "for i in range(2, 11):  # Testing for clusters between 2 to 10\n",
    "    kmeans = KMeans(n_clusters=i, init='k-means++', max_iter=300, n_init=10, random_state=42)\n",
    "    kmeans.fit(features)\n",
    "    wcss.append(kmeans.inertia_)  # Inertia is the WCSS for that k\n",
    "\n",
    "# Plotting the elbow graph\n",
    "plt.plot(range(2, 11), wcss, marker='o')\n",
    "plt.title('Elbow Method for Optimal Clusters')\n",
    "plt.xlabel('Number of Clusters')\n",
    "plt.ylabel('WCSS (Within-cluster Sum of Squares)')\n",
    "plt.show()\n",
    "\n",
    "\n"
   ]
  },
  {
   "cell_type": "raw",
   "id": "8b9ed09b-d8da-4a6a-adb5-7f1dc5a0e164",
   "metadata": {},
   "source": [
    "Interpretation:If the \"elbow\" in the plot occurs at 4 clusters, it suggests that 4 is the optimal number of clusters. This is where the WCSS starts to level off, meaning adding more clusters beyond this point doesn’t significantly improve the model's fit. Therefore, you should use 4 clusters for your KMeans model."
   ]
  },
  {
   "cell_type": "markdown",
   "id": "c7369ba7-6177-48f1-be72-ce610a717fd0",
   "metadata": {},
   "source": [
    "#### Fit KMeans "
   ]
  },
  {
   "cell_type": "code",
   "execution_count": 159,
   "id": "2e30e7ce-d874-4f18-8c50-30fdc2585b75",
   "metadata": {},
   "outputs": [
    {
     "name": "stderr",
     "output_type": "stream",
     "text": [
      "C:\\Users\\Hp\\anaconda3\\Lib\\site-packages\\sklearn\\cluster\\_kmeans.py:1446: UserWarning: KMeans is known to have a memory leak on Windows with MKL, when there are less chunks than available threads. You can avoid it by setting the environment variable OMP_NUM_THREADS=4.\n",
      "  warnings.warn(\n",
      "C:\\Users\\Hp\\AppData\\Local\\Temp\\ipykernel_23956\\495881002.py:2: SettingWithCopyWarning: \n",
      "A value is trying to be set on a copy of a slice from a DataFrame.\n",
      "Try using .loc[row_indexer,col_indexer] = value instead\n",
      "\n",
      "See the caveats in the documentation: https://pandas.pydata.org/pandas-docs/stable/user_guide/indexing.html#returning-a-view-versus-a-copy\n",
      "  features['Cluster'] = kmeans.fit_predict(features)\n"
     ]
    }
   ],
   "source": [
    "kmeans = KMeans(n_clusters=4, random_state=42)\n",
    "features['Cluster'] = kmeans.fit_predict(features)"
   ]
  },
  {
   "cell_type": "markdown",
   "id": "e5ee99bf-b137-4886-891b-f4542472c83b",
   "metadata": {},
   "source": [
    "### Evaluation Metrics\n"
   ]
  },
  {
   "cell_type": "code",
   "execution_count": 167,
   "id": "5e156ff0-8f81-40ba-9d9d-9ddf187ab25b",
   "metadata": {},
   "outputs": [
    {
     "name": "stdout",
     "output_type": "stream",
     "text": [
      "WCSS (Within-cluster Sum of Squares): 261.39429442351906\n",
      "Davies-Bouldin Index: 0.8011435579241639\n",
      "Silhouette Score: 0.5193132188278329\n"
     ]
    }
   ],
   "source": [
    "db_index = davies_bouldin_score(features, data['Cluster'])\n",
    "silhouette_avg = silhouette_score(features, data['Cluster'])\n",
    "wcss = kmeans.inertia_\n",
    "print(f\"WCSS (Within-cluster Sum of Squares): {wcss}\")\n",
    "print(f\"Davies-Bouldin Index: {db_index}\")\n",
    "print(f\"Silhouette Score: {silhouette_avg}\")\n"
   ]
  },
  {
   "cell_type": "markdown",
   "id": "3078a3b2-54b2-47a6-a739-d2fb75382c54",
   "metadata": {},
   "source": [
    "### Visualise clusters using relevant plots.\n"
   ]
  },
  {
   "cell_type": "code",
   "execution_count": 165,
   "id": "3c60bcf1-1610-482b-b5ca-873fed7fa77c",
   "metadata": {},
   "outputs": [
    {
     "data": {
      "image/png": "[encoded data removed]",
      "text/plain": [
       "<Figure size 1000x600 with 1 Axes>"
      ]
     },
     "metadata": {},
     "output_type": "display_data"
    }
   ],
   "source": [
    "from sklearn.decomposition import PCA\n",
    "\n",
    "# Apply PCA to reduce to 2 dimensions\n",
    "pca = PCA(n_components=2)\n",
    "pca_features = pca.fit_transform(features_array)\n",
    "\n",
    "# Scatter plot with PCA components\n",
    "plt.figure(figsize=(10, 6))\n",
    "sns.scatterplot(\n",
    "    x=pca_features[:, 0],\n",
    "    y=pca_features[:, 1],\n",
    "    hue=data['Cluster'],\n",
    "    palette=\"viridis\",\n",
    "    style=data['Cluster'],  # Optional: Add different markers for each cluster\n",
    ")\n",
    "plt.title(\"Cluster Visualization using PCA\")\n",
    "plt.xlabel(\"PCA Component 1\")\n",
    "plt.ylabel(\"PCA Component 2\")\n",
    "plt.legend(title=\"Cluster\")\n",
    "plt.show()\n"
   ]
  },
  {
   "cell_type": "code",
   "execution_count": null,
   "id": "bdace327-7945-4894-a31e-3cb32f6cba87",
   "metadata": {},
   "outputs": [],
   "source": []
  },
  {
   "cell_type": "code",
   "execution_count": null,
   "id": "ad0fd386-25df-4ca6-8045-173b4c639009",
   "metadata": {},
   "outputs": [],
   "source": []
  }
 ],
 "metadata": {
  "kernelspec": {
   "display_name": "Python 3 (ipykernel)",
   "language": "python",
   "name": "python3"
  },
  "language_info": {
   "codemirror_mode": {
    "name": "ipython",
    "version": 3
   },
   "file_extension": ".py",
   "mimetype": "text/x-python",
   "name": "python",
   "nbconvert_exporter": "python",
   "pygments_lexer": "ipython3",
   "version": "3.12.3"
  }
 },
 "nbformat": 4,
 "nbformat_minor": 5
}
